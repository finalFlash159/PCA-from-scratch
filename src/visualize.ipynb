{
 "cells": [
  {
   "cell_type": "markdown",
   "metadata": {},
   "source": [
    "# Visualize Principal componets analysis (PCA)\n",
    "Using Wine data set and Iris dataset"
   ]
  },
  {
   "cell_type": "markdown",
   "metadata": {},
   "source": [
    "## Import Libraries and moudle"
   ]
  },
  {
   "cell_type": "code",
   "execution_count": 27,
   "metadata": {},
   "outputs": [],
   "source": [
    "import os\n",
    "import sys\n",
    "\n",
    "# Lấy đường dẫn của thư mục hiện tại (notebook)\n",
    "current_dir = os.getcwd()\n",
    "sys.path.append(os.path.abspath(os.path.join(current_dir, '..')))\n",
    "\n",
    "# Import module từ src\n",
    "from src.utils import *"
   ]
  },
  {
   "cell_type": "markdown",
   "metadata": {},
   "source": [
    "## Iris dataset"
   ]
  },
  {
   "cell_type": "code",
   "execution_count": 28,
   "metadata": {},
   "outputs": [],
   "source": [
    "iris_data = load_csv('/Users/vominhthinh/Workspace/PCA from scratch/data/Iris.csv')"
   ]
  },
  {
   "cell_type": "code",
   "execution_count": 29,
   "metadata": {},
   "outputs": [
    {
     "name": "stdout",
     "output_type": "stream",
     "text": [
      "<class 'pandas.core.frame.DataFrame'>\n",
      "RangeIndex: 150 entries, 0 to 149\n",
      "Data columns (total 6 columns):\n",
      " #   Column         Non-Null Count  Dtype  \n",
      "---  ------         --------------  -----  \n",
      " 0   Id             150 non-null    int64  \n",
      " 1   SepalLengthCm  150 non-null    float64\n",
      " 2   SepalWidthCm   150 non-null    float64\n",
      " 3   PetalLengthCm  150 non-null    float64\n",
      " 4   PetalWidthCm   150 non-null    float64\n",
      " 5   Species        150 non-null    object \n",
      "dtypes: float64(4), int64(1), object(1)\n",
      "memory usage: 7.2+ KB\n"
     ]
    }
   ],
   "source": [
    "iris_data.info()"
   ]
  },
  {
   "cell_type": "code",
   "execution_count": 30,
   "metadata": {},
   "outputs": [
    {
     "data": {
      "text/plain": [
       "Species\n",
       "Iris-setosa        50\n",
       "Iris-versicolor    50\n",
       "Iris-virginica     50\n",
       "Name: count, dtype: int64"
      ]
     },
     "execution_count": 30,
     "metadata": {},
     "output_type": "execute_result"
    }
   ],
   "source": [
    "iris_data['Species'].value_counts()"
   ]
  },
  {
   "cell_type": "code",
   "execution_count": 31,
   "metadata": {},
   "outputs": [
    {
     "data": {
      "text/html": [
       "<div>\n",
       "<style scoped>\n",
       "    .dataframe tbody tr th:only-of-type {\n",
       "        vertical-align: middle;\n",
       "    }\n",
       "\n",
       "    .dataframe tbody tr th {\n",
       "        vertical-align: top;\n",
       "    }\n",
       "\n",
       "    .dataframe thead th {\n",
       "        text-align: right;\n",
       "    }\n",
       "</style>\n",
       "<table border=\"1\" class=\"dataframe\">\n",
       "  <thead>\n",
       "    <tr style=\"text-align: right;\">\n",
       "      <th></th>\n",
       "      <th>SepalLengthCm</th>\n",
       "      <th>SepalWidthCm</th>\n",
       "      <th>PetalLengthCm</th>\n",
       "      <th>PetalWidthCm</th>\n",
       "      <th>Species</th>\n",
       "    </tr>\n",
       "  </thead>\n",
       "  <tbody>\n",
       "    <tr>\n",
       "      <th>0</th>\n",
       "      <td>5.1</td>\n",
       "      <td>3.5</td>\n",
       "      <td>1.4</td>\n",
       "      <td>0.2</td>\n",
       "      <td>Iris-setosa</td>\n",
       "    </tr>\n",
       "    <tr>\n",
       "      <th>1</th>\n",
       "      <td>4.9</td>\n",
       "      <td>3.0</td>\n",
       "      <td>1.4</td>\n",
       "      <td>0.2</td>\n",
       "      <td>Iris-setosa</td>\n",
       "    </tr>\n",
       "    <tr>\n",
       "      <th>2</th>\n",
       "      <td>4.7</td>\n",
       "      <td>3.2</td>\n",
       "      <td>1.3</td>\n",
       "      <td>0.2</td>\n",
       "      <td>Iris-setosa</td>\n",
       "    </tr>\n",
       "    <tr>\n",
       "      <th>3</th>\n",
       "      <td>4.6</td>\n",
       "      <td>3.1</td>\n",
       "      <td>1.5</td>\n",
       "      <td>0.2</td>\n",
       "      <td>Iris-setosa</td>\n",
       "    </tr>\n",
       "    <tr>\n",
       "      <th>4</th>\n",
       "      <td>5.0</td>\n",
       "      <td>3.6</td>\n",
       "      <td>1.4</td>\n",
       "      <td>0.2</td>\n",
       "      <td>Iris-setosa</td>\n",
       "    </tr>\n",
       "  </tbody>\n",
       "</table>\n",
       "</div>"
      ],
      "text/plain": [
       "   SepalLengthCm  SepalWidthCm  PetalLengthCm  PetalWidthCm      Species\n",
       "0            5.1           3.5            1.4           0.2  Iris-setosa\n",
       "1            4.9           3.0            1.4           0.2  Iris-setosa\n",
       "2            4.7           3.2            1.3           0.2  Iris-setosa\n",
       "3            4.6           3.1            1.5           0.2  Iris-setosa\n",
       "4            5.0           3.6            1.4           0.2  Iris-setosa"
      ]
     },
     "execution_count": 31,
     "metadata": {},
     "output_type": "execute_result"
    }
   ],
   "source": [
    "iris_data = iris_data.iloc[:, 1:]\n",
    "iris_data.head()"
   ]
  },
  {
   "cell_type": "code",
   "execution_count": 32,
   "metadata": {},
   "outputs": [],
   "source": [
    "# Standardize data\n",
    "iris_data.iloc[:, 0:4] = standardize(iris_data.iloc[:, 0:4])"
   ]
  },
  {
   "cell_type": "markdown",
   "metadata": {},
   "source": [
    "## Visualize original dimensions"
   ]
  },
  {
   "cell_type": "code",
   "execution_count": 33,
   "metadata": {},
   "outputs": [
    {
     "data": {
      "image/png": "[encoded data removed]",
      "text/plain": [
       "<Figure size 1143x1000 with 20 Axes>"
      ]
     },
     "metadata": {},
     "output_type": "display_data"
    }
   ],
   "source": [
    "scatter_plot(iris_data, target_column='Species')"
   ]
  },
  {
   "cell_type": "code",
   "execution_count": 34,
   "metadata": {},
   "outputs": [
    {
     "data": {
      "application/vnd.plotly.v1+json": {
       "config": {
        "plotlyServerURL": "https://plot.ly"
       },
       "data": [
        {
         "hovertemplate": "Species=Iris-setosa<br>SepalLengthCm=%{x}<br>SepalWidthCm=%{y}<br>PetalLengthCm=%{z}<extra></extra>",
         "legendgroup": "Iris-setosa",
         "marker": {
          "color": "#636efa",
          "symbol": "circle"
         },
         "mode": "markers",
         "name": "Iris-setosa",
         "scene": "scene",
         "showlegend": true,
         "type": "scatter3d",
         "x": [
          -0.8976738791967662,
          -1.1392004834649534,
          -1.3807270877331415,
          -1.501490389867236,
          -1.0184371813308597,
          -0.5353839727944834,
          -1.501490389867236,
          -1.0184371813308597,
          -1.7430169941354232,
          -1.1392004834649534,
          -0.5353839727944834,
          -1.259963785599048,
          -1.259963785599048,
          -1.8637802962695178,
          -0.052330764258108065,
          -0.17309406639220162,
          -0.5353839727944834,
          -0.8976738791967662,
          -0.17309406639220162,
          -0.8976738791967662,
          -0.5353839727944834,
          -0.8976738791967662,
          -1.501490389867236,
          -0.8976738791967662,
          -1.259963785599048,
          -1.0184371813308597,
          -1.0184371813308597,
          -0.7769105770626715,
          -0.7769105770626715,
          -1.3807270877331415,
          -1.259963785599048,
          -0.5353839727944834,
          -0.7769105770626715,
          -0.4146206706603898,
          -1.1392004834649534,
          -1.0184371813308597,
          -0.4146206706603898,
          -1.1392004834649534,
          -1.7430169941354232,
          -0.8976738791967662,
          -1.0184371813308597,
          -1.6222536920013297,
          -1.7430169941354232,
          -1.0184371813308597,
          -0.8976738791967662,
          -1.259963785599048,
          -0.8976738791967662,
          -1.501490389867236,
          -0.656147274928578,
          -1.0184371813308597
         ],
         "y": [
          1.0286112808972343,
          -0.12454037930145956,
          0.3367202847780184,
          0.10608995273827942,
          1.2592416129369732,
          1.9511326090561893,
          0.7979809488574954,
          0.7979809488574954,
          -0.35517071134119854,
          0.10608995273827942,
          1.4898719449767124,
          0.7979809488574954,
          -0.12454037930145956,
          -0.12454037930145956,
          2.1817629410959283,
          3.104284269254884,
          1.9511326090561893,
          1.0286112808972343,
          1.7205022770164502,
          1.7205022770164502,
          0.7979809488574954,
          1.4898719449767124,
          1.2592416129369732,
          0.5673506168177563,
          0.7979809488574954,
          -0.12454037930145956,
          0.7979809488574954,
          1.0286112808972343,
          0.7979809488574954,
          0.3367202847780184,
          0.10608995273827942,
          0.7979809488574954,
          2.4123932731356663,
          2.643023605175406,
          0.10608995273827942,
          0.3367202847780184,
          1.0286112808972343,
          0.10608995273827942,
          -0.12454037930145956,
          0.7979809488574954,
          1.0286112808972343,
          -1.7389527035796315,
          0.3367202847780184,
          1.0286112808972343,
          1.7205022770164502,
          -0.12454037930145956,
          1.7205022770164502,
          0.3367202847780184,
          1.4898719449767124,
          0.5673506168177563
         ],
         "z": [
          -1.33679402028825,
          -1.33679402028825,
          -1.3934698549528166,
          -1.280118185623683,
          -1.33679402028825,
          -1.1667665162945495,
          -1.33679402028825,
          -1.280118185623683,
          -1.33679402028825,
          -1.280118185623683,
          -1.280118185623683,
          -1.2234423509591161,
          -1.33679402028825,
          -1.5068215242819505,
          -1.4501456896173837,
          -1.280118185623683,
          -1.3934698549528166,
          -1.33679402028825,
          -1.1667665162945495,
          -1.280118185623683,
          -1.1667665162945495,
          -1.280118185623683,
          -1.5634973589465173,
          -1.1667665162945495,
          -1.0534148469654157,
          -1.2234423509591161,
          -1.2234423509591161,
          -1.280118185623683,
          -1.33679402028825,
          -1.2234423509591161,
          -1.2234423509591161,
          -1.280118185623683,
          -1.280118185623683,
          -1.33679402028825,
          -1.280118185623683,
          -1.4501456896173837,
          -1.3934698549528166,
          -1.280118185623683,
          -1.3934698549528166,
          -1.280118185623683,
          -1.3934698549528166,
          -1.3934698549528166,
          -1.3934698549528166,
          -1.2234423509591161,
          -1.0534148469654157,
          -1.33679402028825,
          -1.2234423509591161,
          -1.33679402028825,
          -1.280118185623683,
          -1.33679402028825
         ]
        },
        {
         "hovertemplate": "Species=Iris-versicolor<br>SepalLengthCm=%{x}<br>SepalWidthCm=%{y}<br>PetalLengthCm=%{z}<extra></extra>",
         "legendgroup": "Iris-versicolor",
         "marker": {
          "color": "#EF553B",
          "symbol": "circle"
         },
         "mode": "markers",
         "name": "Iris-versicolor",
         "scene": "scene",
         "showlegend": true,
         "type": "scatter3d",
         "x": [
          1.39682886135102,
          0.6722490485464565,
          1.2760655592169263,
          -0.4146206706603898,
          0.7930123506805501,
          -0.17309406639220162,
          0.5514857464123619,
          -1.1392004834649534,
          0.9137756528146436,
          -0.7769105770626715,
          -1.0184371813308597,
          0.06843253787598656,
          0.1891958400100801,
          0.3099591421441737,
          -0.29385736852629624,
          1.0345389549487383,
          -0.29385736852629624,
          -0.052330764258108065,
          0.43072244427826833,
          -0.29385736852629624,
          0.06843253787598656,
          0.3099591421441737,
          0.5514857464123619,
          0.3099591421441737,
          0.6722490485464565,
          0.9137756528146436,
          1.1553022570828317,
          1.0345389549487383,
          0.1891958400100801,
          -0.17309406639220162,
          -0.4146206706603898,
          -0.4146206706603898,
          -0.052330764258108065,
          0.1891958400100801,
          -0.5353839727944834,
          0.1891958400100801,
          1.0345389549487383,
          0.5514857464123619,
          -0.29385736852629624,
          -0.4146206706603898,
          -0.4146206706603898,
          0.3099591421441737,
          -0.052330764258108065,
          -1.0184371813308597,
          -0.29385736852629624,
          -0.17309406639220162,
          -0.17309406639220162,
          0.43072244427826833,
          -0.8976738791967662,
          -0.17309406639220162
         ],
         "y": [
          0.3367202847780184,
          0.3367202847780184,
          0.10608995273827942,
          -1.7389527035796315,
          -0.5858010433809375,
          -0.5858010433809375,
          0.5673506168177563,
          -1.5083223715398926,
          -0.35517071134119854,
          -0.8164313754206755,
          -2.430843699698847,
          -0.12454037930145956,
          -1.9695830356193693,
          -0.35517071134119854,
          -0.35517071134119854,
          0.10608995273827942,
          -0.12454037930145956,
          -0.8164313754206755,
          -1.9695830356193693,
          -1.2776920395001534,
          0.3367202847780184,
          -0.5858010433809375,
          -1.2776920395001534,
          -0.5858010433809375,
          -0.35517071134119854,
          -0.12454037930145956,
          -0.5858010433809375,
          -0.12454037930145956,
          -0.35517071134119854,
          -1.0470617074604145,
          -1.5083223715398926,
          -1.5083223715398926,
          -0.8164313754206755,
          -0.8164313754206755,
          -0.12454037930145956,
          0.7979809488574954,
          0.10608995273827942,
          -1.7389527035796315,
          -0.12454037930145956,
          -1.2776920395001534,
          -1.0470617074604145,
          -0.12454037930145956,
          -1.0470617074604145,
          -1.7389527035796315,
          -0.8164313754206755,
          -0.12454037930145956,
          -0.35517071134119854,
          -0.35517071134119854,
          -1.2776920395001534,
          -0.5858010433809375
         ],
         "z": [
          0.5335085236424564,
          0.42015685431332256,
          0.6468601929715901,
          0.1367776809904883,
          0.4768326889778892,
          0.42015685431332256,
          0.5335085236424564,
          -0.2599531616614798,
          0.4768326889778892,
          0.08010184632592139,
          -0.14660149233234598,
          0.2501293503196221,
          0.1367776809904883,
          0.5335085236424564,
          -0.08992565766777907,
          0.3634810196487559,
          0.42015685431332256,
          0.19345351565505495,
          0.42015685431332256,
          0.08010184632592139,
          0.590184358307023,
          0.1367776809904883,
          0.6468601929715901,
          0.5335085236424564,
          0.30680518498418874,
          0.3634810196487559,
          0.590184358307023,
          0.7035360276361569,
          0.42015685431332256,
          -0.14660149233234598,
          0.02342601166135449,
          -0.033249823003212164,
          0.08010184632592139,
          0.7602118623007235,
          0.42015685431332256,
          0.42015685431332256,
          0.5335085236424564,
          0.3634810196487559,
          0.19345351565505495,
          0.1367776809904883,
          0.3634810196487559,
          0.4768326889778892,
          0.1367776809904883,
          -0.2599531616614798,
          0.2501293503196221,
          0.2501293503196221,
          0.2501293503196221,
          0.30680518498418874,
          -0.4299806656551802,
          0.19345351565505495
         ]
        },
        {
         "hovertemplate": "Species=Iris-virginica<br>SepalLengthCm=%{x}<br>SepalWidthCm=%{y}<br>PetalLengthCm=%{z}<extra></extra>",
         "legendgroup": "Iris-virginica",
         "marker": {
          "color": "#00cc96",
          "symbol": "circle"
         },
         "mode": "markers",
         "name": "Iris-virginica",
         "scene": "scene",
         "showlegend": true,
         "type": "scatter3d",
         "x": [
          0.5514857464123619,
          -0.052330764258108065,
          1.5175921634851135,
          0.5514857464123619,
          0.7930123506805501,
          2.1214086741555835,
          -1.1392004834649534,
          1.7591187677533018,
          1.0345389549487383,
          1.638355465619208,
          0.7930123506805501,
          0.6722490485464565,
          1.1553022570828317,
          -0.17309406639220162,
          -0.052330764258108065,
          0.6722490485464565,
          0.7930123506805501,
          2.242171976289678,
          2.242171976289678,
          0.1891958400100801,
          1.2760655592169263,
          -0.29385736852629624,
          2.242171976289678,
          0.5514857464123619,
          1.0345389549487383,
          1.638355465619208,
          0.43072244427826833,
          0.3099591421441737,
          0.6722490485464565,
          1.638355465619208,
          1.8798820698873964,
          2.483698580557866,
          0.6722490485464565,
          0.5514857464123619,
          0.3099591421441737,
          2.242171976289678,
          0.5514857464123619,
          0.6722490485464565,
          0.1891958400100801,
          1.2760655592169263,
          1.0345389549487383,
          1.2760655592169263,
          -0.052330764258108065,
          1.1553022570828317,
          1.0345389549487383,
          1.0345389549487383,
          0.5514857464123619,
          0.7930123506805501,
          0.43072244427826833,
          0.06843253787598656
         ],
         "y": [
          0.5673506168177563,
          -0.8164313754206755,
          -0.12454037930145956,
          -0.35517071134119854,
          -0.12454037930145956,
          -0.12454037930145956,
          -1.2776920395001534,
          -0.35517071134119854,
          -1.2776920395001534,
          1.2592416129369732,
          0.3367202847780184,
          -0.8164313754206755,
          -0.12454037930145956,
          -1.2776920395001534,
          -0.5858010433809375,
          0.3367202847780184,
          -0.12454037930145956,
          1.7205022770164502,
          -1.0470617074604145,
          -1.9695830356193693,
          0.3367202847780184,
          -0.5858010433809375,
          -0.5858010433809375,
          -0.8164313754206755,
          0.5673506168177563,
          0.3367202847780184,
          -0.5858010433809375,
          -0.12454037930145956,
          -0.5858010433809375,
          -0.12454037930145956,
          -0.5858010433809375,
          1.7205022770164502,
          -0.5858010433809375,
          -0.5858010433809375,
          -1.0470617074604145,
          -0.12454037930145956,
          0.7979809488574954,
          0.10608995273827942,
          -0.12454037930145956,
          0.10608995273827942,
          0.10608995273827942,
          0.10608995273827942,
          -0.8164313754206755,
          0.3367202847780184,
          0.5673506168177563,
          -0.12454037930145956,
          -1.2776920395001534,
          -0.12454037930145956,
          0.7979809488574954,
          -0.12454037930145956
         ],
         "z": [
          1.2702943742818253,
          0.7602118623007235,
          1.2136185396172587,
          1.0435910356235578,
          1.1569427049526915,
          1.6103493822692263,
          0.42015685431332256,
          1.4403218782755258,
          1.1569427049526915,
          1.326970208946392,
          0.7602118623007235,
          0.8735635316298573,
          0.9869152009589911,
          0.7035360276361569,
          0.7602118623007235,
          0.8735635316298573,
          0.9869152009589911,
          1.6670252169337934,
          1.7803768862629272,
          0.7035360276361569,
          1.1002668702881249,
          0.6468601929715901,
          1.6670252169337934,
          0.6468601929715901,
          1.1002668702881249,
          1.2702943742818253,
          0.590184358307023,
          0.6468601929715901,
          1.0435910356235578,
          1.1569427049526915,
          1.326970208946392,
          1.4969977129400929,
          1.0435910356235578,
          0.7602118623007235,
          1.0435910356235578,
          1.326970208946392,
          1.0435910356235578,
          0.9869152009589911,
          0.590184358307023,
          0.9302393662944244,
          1.0435910356235578,
          0.7602118623007235,
          0.7602118623007235,
          1.2136185396172587,
          1.1002668702881249,
          0.8168876969652906,
          0.7035360276361569,
          0.8168876969652906,
          0.9302393662944244,
          0.7602118623007235
         ]
        }
       ],
       "layout": {
        "legend": {
         "title": {
          "text": "Species"
         },
         "tracegroupgap": 0
        },
        "scene": {
         "domain": {
          "x": [
           0,
           1
          ],
          "y": [
           0,
           1
          ]
         },
         "xaxis": {
          "title": {
           "text": "SepalLengthCm"
          }
         },
         "yaxis": {
          "title": {
           "text": "SepalWidthCm"
          }
         },
         "zaxis": {
          "title": {
           "text": "PetalLengthCm"
          }
         }
        },
        "template": {
         "data": {
          "bar": [
           {
            "error_x": {
             "color": "#2a3f5f"
            },
            "error_y": {
             "color": "#2a3f5f"
            },
            "marker": {
             "line": {
              "color": "#E5ECF6",
              "width": 0.5
             },
             "pattern": {
              "fillmode": "overlay",
              "size": 10,
              "solidity": 0.2
             }
            },
            "type": "bar"
           }
          ],
          "barpolar": [
           {
            "marker": {
             "line": {
              "color": "#E5ECF6",
              "width": 0.5
             },
             "pattern": {
              "fillmode": "overlay",
              "size": 10,
              "solidity": 0.2
             }
            },
            "type": "barpolar"
           }
          ],
          "carpet": [
           {
            "aaxis": {
             "endlinecolor": "#2a3f5f",
             "gridcolor": "white",
             "linecolor": "white",
             "minorgridcolor": "white",
             "startlinecolor": "#2a3f5f"
            },
            "baxis": {
             "endlinecolor": "#2a3f5f",
             "gridcolor": "white",
             "linecolor": "white",
             "minorgridcolor": "white",
             "startlinecolor": "#2a3f5f"
            },
            "type": "carpet"
           }
          ],
          "choropleth": [
           {
            "colorbar": {
             "outlinewidth": 0,
             "ticks": ""
            },
            "type": "choropleth"
           }
          ],
          "contour": [
           {
            "colorbar": {
             "outlinewidth": 0,
             "ticks": ""
            },
            "colorscale": [
             [
              0,
              "#0d0887"
             ],
             [
              0.1111111111111111,
              "#46039f"
             ],
             [
              0.2222222222222222,
              "#7201a8"
             ],
             [
              0.3333333333333333,
              "#9c179e"
             ],
             [
              0.4444444444444444,
              "#bd3786"
             ],
             [
              0.5555555555555556,
              "#d8576b"
             ],
             [
              0.6666666666666666,
              "#ed7953"
             ],
             [
              0.7777777777777778,
              "#fb9f3a"
             ],
             [
              0.8888888888888888,
              "#fdca26"
             ],
             [
              1,
              "#f0f921"
             ]
            ],
            "type": "contour"
           }
          ],
          "contourcarpet": [
           {
            "colorbar": {
             "outlinewidth": 0,
             "ticks": ""
            },
            "type": "contourcarpet"
           }
          ],
          "heatmap": [
           {
            "colorbar": {
             "outlinewidth": 0,
             "ticks": ""
            },
            "colorscale": [
             [
              0,
              "#0d0887"
             ],
             [
              0.1111111111111111,
              "#46039f"
             ],
             [
              0.2222222222222222,
              "#7201a8"
             ],
             [
              0.3333333333333333,
              "#9c179e"
             ],
             [
              0.4444444444444444,
              "#bd3786"
             ],
             [
              0.5555555555555556,
              "#d8576b"
             ],
             [
              0.6666666666666666,
              "#ed7953"
             ],
             [
              0.7777777777777778,
              "#fb9f3a"
             ],
             [
              0.8888888888888888,
              "#fdca26"
             ],
             [
              1,
              "#f0f921"
             ]
            ],
            "type": "heatmap"
           }
          ],
          "heatmapgl": [
           {
            "colorbar": {
             "outlinewidth": 0,
             "ticks": ""
            },
            "colorscale": [
             [
              0,
              "#0d0887"
             ],
             [
              0.1111111111111111,
              "#46039f"
             ],
             [
              0.2222222222222222,
              "#7201a8"
             ],
             [
              0.3333333333333333,
              "#9c179e"
             ],
             [
              0.4444444444444444,
              "#bd3786"
             ],
             [
              0.5555555555555556,
              "#d8576b"
             ],
             [
              0.6666666666666666,
              "#ed7953"
             ],
             [
              0.7777777777777778,
              "#fb9f3a"
             ],
             [
              0.8888888888888888,
              "#fdca26"
             ],
             [
              1,
              "#f0f921"
             ]
            ],
            "type": "heatmapgl"
           }
          ],
          "histogram": [
           {
            "marker": {
             "pattern": {
              "fillmode": "overlay",
              "size": 10,
              "solidity": 0.2
             }
            },
            "type": "histogram"
           }
          ],
          "histogram2d": [
           {
            "colorbar": {
             "outlinewidth": 0,
             "ticks": ""
            },
            "colorscale": [
             [
              0,
              "#0d0887"
             ],
             [
              0.1111111111111111,
              "#46039f"
             ],
             [
              0.2222222222222222,
              "#7201a8"
             ],
             [
              0.3333333333333333,
              "#9c179e"
             ],
             [
              0.4444444444444444,
              "#bd3786"
             ],
             [
              0.5555555555555556,
              "#d8576b"
             ],
             [
              0.6666666666666666,
              "#ed7953"
             ],
             [
              0.7777777777777778,
              "#fb9f3a"
             ],
             [
              0.8888888888888888,
              "#fdca26"
             ],
             [
              1,
              "#f0f921"
             ]
            ],
            "type": "histogram2d"
           }
          ],
          "histogram2dcontour": [
           {
            "colorbar": {
             "outlinewidth": 0,
             "ticks": ""
            },
            "colorscale": [
             [
              0,
              "#0d0887"
             ],
             [
              0.1111111111111111,
              "#46039f"
             ],
             [
              0.2222222222222222,
              "#7201a8"
             ],
             [
              0.3333333333333333,
              "#9c179e"
             ],
             [
              0.4444444444444444,
              "#bd3786"
             ],
             [
              0.5555555555555556,
              "#d8576b"
             ],
             [
              0.6666666666666666,
              "#ed7953"
             ],
             [
              0.7777777777777778,
              "#fb9f3a"
             ],
             [
              0.8888888888888888,
              "#fdca26"
             ],
             [
              1,
              "#f0f921"
             ]
            ],
            "type": "histogram2dcontour"
           }
          ],
          "mesh3d": [
           {
            "colorbar": {
             "outlinewidth": 0,
             "ticks": ""
            },
            "type": "mesh3d"
           }
          ],
          "parcoords": [
           {
            "line": {
             "colorbar": {
              "outlinewidth": 0,
              "ticks": ""
             }
            },
            "type": "parcoords"
           }
          ],
          "pie": [
           {
            "automargin": true,
            "type": "pie"
           }
          ],
          "scatter": [
           {
            "fillpattern": {
             "fillmode": "overlay",
             "size": 10,
             "solidity": 0.2
            },
            "type": "scatter"
           }
          ],
          "scatter3d": [
           {
            "line": {
             "colorbar": {
              "outlinewidth": 0,
              "ticks": ""
             }
            },
            "marker": {
             "colorbar": {
              "outlinewidth": 0,
              "ticks": ""
             }
            },
            "type": "scatter3d"
           }
          ],
          "scattercarpet": [
           {
            "marker": {
             "colorbar": {
              "outlinewidth": 0,
              "ticks": ""
             }
            },
            "type": "scattercarpet"
           }
          ],
          "scattergeo": [
           {
            "marker": {
             "colorbar": {
              "outlinewidth": 0,
              "ticks": ""
             }
            },
            "type": "scattergeo"
           }
          ],
          "scattergl": [
           {
            "marker": {
             "colorbar": {
              "outlinewidth": 0,
              "ticks": ""
             }
            },
            "type": "scattergl"
           }
          ],
          "scattermapbox": [
           {
            "marker": {
             "colorbar": {
              "outlinewidth": 0,
              "ticks": ""
             }
            },
            "type": "scattermapbox"
           }
          ],
          "scatterpolar": [
           {
            "marker": {
             "colorbar": {
              "outlinewidth": 0,
              "ticks": ""
             }
            },
            "type": "scatterpolar"
           }
          ],
          "scatterpolargl": [
           {
            "marker": {
             "colorbar": {
              "outlinewidth": 0,
              "ticks": ""
             }
            },
            "type": "scatterpolargl"
           }
          ],
          "scatterternary": [
           {
            "marker": {
             "colorbar": {
              "outlinewidth": 0,
              "ticks": ""
             }
            },
            "type": "scatterternary"
           }
          ],
          "surface": [
           {
            "colorbar": {
             "outlinewidth": 0,
             "ticks": ""
            },
            "colorscale": [
             [
              0,
              "#0d0887"
             ],
             [
              0.1111111111111111,
              "#46039f"
             ],
             [
              0.2222222222222222,
              "#7201a8"
             ],
             [
              0.3333333333333333,
              "#9c179e"
             ],
             [
              0.4444444444444444,
              "#bd3786"
             ],
             [
              0.5555555555555556,
              "#d8576b"
             ],
             [
              0.6666666666666666,
              "#ed7953"
             ],
             [
              0.7777777777777778,
              "#fb9f3a"
             ],
             [
              0.8888888888888888,
              "#fdca26"
             ],
             [
              1,
              "#f0f921"
             ]
            ],
            "type": "surface"
           }
          ],
          "table": [
           {
            "cells": {
             "fill": {
              "color": "#EBF0F8"
             },
             "line": {
              "color": "white"
             }
            },
            "header": {
             "fill": {
              "color": "#C8D4E3"
             },
             "line": {
              "color": "white"
             }
            },
            "type": "table"
           }
          ]
         },
         "layout": {
          "annotationdefaults": {
           "arrowcolor": "#2a3f5f",
           "arrowhead": 0,
           "arrowwidth": 1
          },
          "autotypenumbers": "strict",
          "coloraxis": {
           "colorbar": {
            "outlinewidth": 0,
            "ticks": ""
           }
          },
          "colorscale": {
           "diverging": [
            [
             0,
             "#8e0152"
            ],
            [
             0.1,
             "#c51b7d"
            ],
            [
             0.2,
             "#de77ae"
            ],
            [
             0.3,
             "#f1b6da"
            ],
            [
             0.4,
             "#fde0ef"
            ],
            [
             0.5,
             "#f7f7f7"
            ],
            [
             0.6,
             "#e6f5d0"
            ],
            [
             0.7,
             "#b8e186"
            ],
            [
             0.8,
             "#7fbc41"
            ],
            [
             0.9,
             "#4d9221"
            ],
            [
             1,
             "#276419"
            ]
           ],
           "sequential": [
            [
             0,
             "#0d0887"
            ],
            [
             0.1111111111111111,
             "#46039f"
            ],
            [
             0.2222222222222222,
             "#7201a8"
            ],
            [
             0.3333333333333333,
             "#9c179e"
            ],
            [
             0.4444444444444444,
             "#bd3786"
            ],
            [
             0.5555555555555556,
             "#d8576b"
            ],
            [
             0.6666666666666666,
             "#ed7953"
            ],
            [
             0.7777777777777778,
             "#fb9f3a"
            ],
            [
             0.8888888888888888,
             "#fdca26"
            ],
            [
             1,
             "#f0f921"
            ]
           ],
           "sequentialminus": [
            [
             0,
             "#0d0887"
            ],
            [
             0.1111111111111111,
             "#46039f"
            ],
            [
             0.2222222222222222,
             "#7201a8"
            ],
            [
             0.3333333333333333,
             "#9c179e"
            ],
            [
             0.4444444444444444,
             "#bd3786"
            ],
            [
             0.5555555555555556,
             "#d8576b"
            ],
            [
             0.6666666666666666,
             "#ed7953"
            ],
            [
             0.7777777777777778,
             "#fb9f3a"
            ],
            [
             0.8888888888888888,
             "#fdca26"
            ],
            [
             1,
             "#f0f921"
            ]
           ]
          },
          "colorway": [
           "#636efa",
           "#EF553B",
           "#00cc96",
           "#ab63fa",
           "#FFA15A",
           "#19d3f3",
           "#FF6692",
           "#B6E880",
           "#FF97FF",
           "#FECB52"
          ],
          "font": {
           "color": "#2a3f5f"
          },
          "geo": {
           "bgcolor": "white",
           "lakecolor": "white",
           "landcolor": "#E5ECF6",
           "showlakes": true,
           "showland": true,
           "subunitcolor": "white"
          },
          "hoverlabel": {
           "align": "left"
          },
          "hovermode": "closest",
          "mapbox": {
           "style": "light"
          },
          "paper_bgcolor": "white",
          "plot_bgcolor": "#E5ECF6",
          "polar": {
           "angularaxis": {
            "gridcolor": "white",
            "linecolor": "white",
            "ticks": ""
           },
           "bgcolor": "#E5ECF6",
           "radialaxis": {
            "gridcolor": "white",
            "linecolor": "white",
            "ticks": ""
           }
          },
          "scene": {
           "xaxis": {
            "backgroundcolor": "#E5ECF6",
            "gridcolor": "white",
            "gridwidth": 2,
            "linecolor": "white",
            "showbackground": true,
            "ticks": "",
            "zerolinecolor": "white"
           },
           "yaxis": {
            "backgroundcolor": "#E5ECF6",
            "gridcolor": "white",
            "gridwidth": 2,
            "linecolor": "white",
            "showbackground": true,
            "ticks": "",
            "zerolinecolor": "white"
           },
           "zaxis": {
            "backgroundcolor": "#E5ECF6",
            "gridcolor": "white",
            "gridwidth": 2,
            "linecolor": "white",
            "showbackground": true,
            "ticks": "",
            "zerolinecolor": "white"
           }
          },
          "shapedefaults": {
           "line": {
            "color": "#2a3f5f"
           }
          },
          "ternary": {
           "aaxis": {
            "gridcolor": "white",
            "linecolor": "white",
            "ticks": ""
           },
           "baxis": {
            "gridcolor": "white",
            "linecolor": "white",
            "ticks": ""
           },
           "bgcolor": "#E5ECF6",
           "caxis": {
            "gridcolor": "white",
            "linecolor": "white",
            "ticks": ""
           }
          },
          "title": {
           "x": 0.05
          },
          "xaxis": {
           "automargin": true,
           "gridcolor": "white",
           "linecolor": "white",
           "ticks": "",
           "title": {
            "standoff": 15
           },
           "zerolinecolor": "white",
           "zerolinewidth": 2
          },
          "yaxis": {
           "automargin": true,
           "gridcolor": "white",
           "linecolor": "white",
           "ticks": "",
           "title": {
            "standoff": 15
           },
           "zerolinecolor": "white",
           "zerolinewidth": 2
          }
         }
        },
        "title": {
         "text": "3D Scatter Plot"
        }
       }
      }
     },
     "metadata": {},
     "output_type": "display_data"
    }
   ],
   "source": [
    "fig = scatter_plot_3d_px(iris_data, target_column='Species')\n",
    "fig.show()"
   ]
  },
  {
   "cell_type": "code",
   "execution_count": 35,
   "metadata": {},
   "outputs": [
    {
     "data": {
      "image/png": "[encoded data removed]",
      "text/plain": [
       "<IPython.core.display.Image object>"
      ]
     },
     "execution_count": 35,
     "metadata": {},
     "output_type": "execute_result"
    }
   ],
   "source": [
    "# save and display the plot\n",
    "save_plotly_image(fig, '/Users/vominhthinh/Workspace/PCA from scratch/plots/scatter_plot_3d_org.png')\n",
    "Image(filename='/Users/vominhthinh/Workspace/PCA from scratch/plots/scatter_plot_3d_org.png')"
   ]
  },
  {
   "cell_type": "code",
   "execution_count": 36,
   "metadata": {},
   "outputs": [
    {
     "data": {
      "application/vnd.plotly.v1+json": {
       "config": {
        "plotlyServerURL": "https://plot.ly"
       },
       "data": [
        {
         "fillpattern": {
          "shape": ""
         },
         "hovertemplate": "Principal Component=%{x}<br>Explained Variance Ratio=%{y}<extra></extra>",
         "legendgroup": "",
         "line": {
          "color": "#636efa"
         },
         "marker": {
          "symbol": "circle"
         },
         "mode": "lines",
         "name": "",
         "orientation": "v",
         "showlegend": false,
         "stackgroup": "1",
         "type": "scatter",
         "x": [
          1,
          2,
          3,
          4
         ],
         "xaxis": "x",
         "y": [
          0.7277045209380134,
          0.23030523267680636,
          0.03683831957627408,
          0.0051519268089061715
         ],
         "yaxis": "y"
        }
       ],
       "layout": {
        "legend": {
         "tracegroupgap": 0
        },
        "template": {
         "data": {
          "bar": [
           {
            "error_x": {
             "color": "#2a3f5f"
            },
            "error_y": {
             "color": "#2a3f5f"
            },
            "marker": {
             "line": {
              "color": "#E5ECF6",
              "width": 0.5
             },
             "pattern": {
              "fillmode": "overlay",
              "size": 10,
              "solidity": 0.2
             }
            },
            "type": "bar"
           }
          ],
          "barpolar": [
           {
            "marker": {
             "line": {
              "color": "#E5ECF6",
              "width": 0.5
             },
             "pattern": {
              "fillmode": "overlay",
              "size": 10,
              "solidity": 0.2
             }
            },
            "type": "barpolar"
           }
          ],
          "carpet": [
           {
            "aaxis": {
             "endlinecolor": "#2a3f5f",
             "gridcolor": "white",
             "linecolor": "white",
             "minorgridcolor": "white",
             "startlinecolor": "#2a3f5f"
            },
            "baxis": {
             "endlinecolor": "#2a3f5f",
             "gridcolor": "white",
             "linecolor": "white",
             "minorgridcolor": "white",
             "startlinecolor": "#2a3f5f"
            },
            "type": "carpet"
           }
          ],
          "choropleth": [
           {
            "colorbar": {
             "outlinewidth": 0,
             "ticks": ""
            },
            "type": "choropleth"
           }
          ],
          "contour": [
           {
            "colorbar": {
             "outlinewidth": 0,
             "ticks": ""
            },
            "colorscale": [
             [
              0,
              "#0d0887"
             ],
             [
              0.1111111111111111,
              "#46039f"
             ],
             [
              0.2222222222222222,
              "#7201a8"
             ],
             [
              0.3333333333333333,
              "#9c179e"
             ],
             [
              0.4444444444444444,
              "#bd3786"
             ],
             [
              0.5555555555555556,
              "#d8576b"
             ],
             [
              0.6666666666666666,
              "#ed7953"
             ],
             [
              0.7777777777777778,
              "#fb9f3a"
             ],
             [
              0.8888888888888888,
              "#fdca26"
             ],
             [
              1,
              "#f0f921"
             ]
            ],
            "type": "contour"
           }
          ],
          "contourcarpet": [
           {
            "colorbar": {
             "outlinewidth": 0,
             "ticks": ""
            },
            "type": "contourcarpet"
           }
          ],
          "heatmap": [
           {
            "colorbar": {
             "outlinewidth": 0,
             "ticks": ""
            },
            "colorscale": [
             [
              0,
              "#0d0887"
             ],
             [
              0.1111111111111111,
              "#46039f"
             ],
             [
              0.2222222222222222,
              "#7201a8"
             ],
             [
              0.3333333333333333,
              "#9c179e"
             ],
             [
              0.4444444444444444,
              "#bd3786"
             ],
             [
              0.5555555555555556,
              "#d8576b"
             ],
             [
              0.6666666666666666,
              "#ed7953"
             ],
             [
              0.7777777777777778,
              "#fb9f3a"
             ],
             [
              0.8888888888888888,
              "#fdca26"
             ],
             [
              1,
              "#f0f921"
             ]
            ],
            "type": "heatmap"
           }
          ],
          "heatmapgl": [
           {
            "colorbar": {
             "outlinewidth": 0,
             "ticks": ""
            },
            "colorscale": [
             [
              0,
              "#0d0887"
             ],
             [
              0.1111111111111111,
              "#46039f"
             ],
             [
              0.2222222222222222,
              "#7201a8"
             ],
             [
              0.3333333333333333,
              "#9c179e"
             ],
             [
              0.4444444444444444,
              "#bd3786"
             ],
             [
              0.5555555555555556,
              "#d8576b"
             ],
             [
              0.6666666666666666,
              "#ed7953"
             ],
             [
              0.7777777777777778,
              "#fb9f3a"
             ],
             [
              0.8888888888888888,
              "#fdca26"
             ],
             [
              1,
              "#f0f921"
             ]
            ],
            "type": "heatmapgl"
           }
          ],
          "histogram": [
           {
            "marker": {
             "pattern": {
              "fillmode": "overlay",
              "size": 10,
              "solidity": 0.2
             }
            },
            "type": "histogram"
           }
          ],
          "histogram2d": [
           {
            "colorbar": {
             "outlinewidth": 0,
             "ticks": ""
            },
            "colorscale": [
             [
              0,
              "#0d0887"
             ],
             [
              0.1111111111111111,
              "#46039f"
             ],
             [
              0.2222222222222222,
              "#7201a8"
             ],
             [
              0.3333333333333333,
              "#9c179e"
             ],
             [
              0.4444444444444444,
              "#bd3786"
             ],
             [
              0.5555555555555556,
              "#d8576b"
             ],
             [
              0.6666666666666666,
              "#ed7953"
             ],
             [
              0.7777777777777778,
              "#fb9f3a"
             ],
             [
              0.8888888888888888,
              "#fdca26"
             ],
             [
              1,
              "#f0f921"
             ]
            ],
            "type": "histogram2d"
           }
          ],
          "histogram2dcontour": [
           {
            "colorbar": {
             "outlinewidth": 0,
             "ticks": ""
            },
            "colorscale": [
             [
              0,
              "#0d0887"
             ],
             [
              0.1111111111111111,
              "#46039f"
             ],
             [
              0.2222222222222222,
              "#7201a8"
             ],
             [
              0.3333333333333333,
              "#9c179e"
             ],
             [
              0.4444444444444444,
              "#bd3786"
             ],
             [
              0.5555555555555556,
              "#d8576b"
             ],
             [
              0.6666666666666666,
              "#ed7953"
             ],
             [
              0.7777777777777778,
              "#fb9f3a"
             ],
             [
              0.8888888888888888,
              "#fdca26"
             ],
             [
              1,
              "#f0f921"
             ]
            ],
            "type": "histogram2dcontour"
           }
          ],
          "mesh3d": [
           {
            "colorbar": {
             "outlinewidth": 0,
             "ticks": ""
            },
            "type": "mesh3d"
           }
          ],
          "parcoords": [
           {
            "line": {
             "colorbar": {
              "outlinewidth": 0,
              "ticks": ""
             }
            },
            "type": "parcoords"
           }
          ],
          "pie": [
           {
            "automargin": true,
            "type": "pie"
           }
          ],
          "scatter": [
           {
            "fillpattern": {
             "fillmode": "overlay",
             "size": 10,
             "solidity": 0.2
            },
            "type": "scatter"
           }
          ],
          "scatter3d": [
           {
            "line": {
             "colorbar": {
              "outlinewidth": 0,
              "ticks": ""
             }
            },
            "marker": {
             "colorbar": {
              "outlinewidth": 0,
              "ticks": ""
             }
            },
            "type": "scatter3d"
           }
          ],
          "scattercarpet": [
           {
            "marker": {
             "colorbar": {
              "outlinewidth": 0,
              "ticks": ""
             }
            },
            "type": "scattercarpet"
           }
          ],
          "scattergeo": [
           {
            "marker": {
             "colorbar": {
              "outlinewidth": 0,
              "ticks": ""
             }
            },
            "type": "scattergeo"
           }
          ],
          "scattergl": [
           {
            "marker": {
             "colorbar": {
              "outlinewidth": 0,
              "ticks": ""
             }
            },
            "type": "scattergl"
           }
          ],
          "scattermapbox": [
           {
            "marker": {
             "colorbar": {
              "outlinewidth": 0,
              "ticks": ""
             }
            },
            "type": "scattermapbox"
           }
          ],
          "scatterpolar": [
           {
            "marker": {
             "colorbar": {
              "outlinewidth": 0,
              "ticks": ""
             }
            },
            "type": "scatterpolar"
           }
          ],
          "scatterpolargl": [
           {
            "marker": {
             "colorbar": {
              "outlinewidth": 0,
              "ticks": ""
             }
            },
            "type": "scatterpolargl"
           }
          ],
          "scatterternary": [
           {
            "marker": {
             "colorbar": {
              "outlinewidth": 0,
              "ticks": ""
             }
            },
            "type": "scatterternary"
           }
          ],
          "surface": [
           {
            "colorbar": {
             "outlinewidth": 0,
             "ticks": ""
            },
            "colorscale": [
             [
              0,
              "#0d0887"
             ],
             [
              0.1111111111111111,
              "#46039f"
             ],
             [
              0.2222222222222222,
              "#7201a8"
             ],
             [
              0.3333333333333333,
              "#9c179e"
             ],
             [
              0.4444444444444444,
              "#bd3786"
             ],
             [
              0.5555555555555556,
              "#d8576b"
             ],
             [
              0.6666666666666666,
              "#ed7953"
             ],
             [
              0.7777777777777778,
              "#fb9f3a"
             ],
             [
              0.8888888888888888,
              "#fdca26"
             ],
             [
              1,
              "#f0f921"
             ]
            ],
            "type": "surface"
           }
          ],
          "table": [
           {
            "cells": {
             "fill": {
              "color": "#EBF0F8"
             },
             "line": {
              "color": "white"
             }
            },
            "header": {
             "fill": {
              "color": "#C8D4E3"
             },
             "line": {
              "color": "white"
             }
            },
            "type": "table"
           }
          ]
         },
         "layout": {
          "annotationdefaults": {
           "arrowcolor": "#2a3f5f",
           "arrowhead": 0,
           "arrowwidth": 1
          },
          "autotypenumbers": "strict",
          "coloraxis": {
           "colorbar": {
            "outlinewidth": 0,
            "ticks": ""
           }
          },
          "colorscale": {
           "diverging": [
            [
             0,
             "#8e0152"
            ],
            [
             0.1,
             "#c51b7d"
            ],
            [
             0.2,
             "#de77ae"
            ],
            [
             0.3,
             "#f1b6da"
            ],
            [
             0.4,
             "#fde0ef"
            ],
            [
             0.5,
             "#f7f7f7"
            ],
            [
             0.6,
             "#e6f5d0"
            ],
            [
             0.7,
             "#b8e186"
            ],
            [
             0.8,
             "#7fbc41"
            ],
            [
             0.9,
             "#4d9221"
            ],
            [
             1,
             "#276419"
            ]
           ],
           "sequential": [
            [
             0,
             "#0d0887"
            ],
            [
             0.1111111111111111,
             "#46039f"
            ],
            [
             0.2222222222222222,
             "#7201a8"
            ],
            [
             0.3333333333333333,
             "#9c179e"
            ],
            [
             0.4444444444444444,
             "#bd3786"
            ],
            [
             0.5555555555555556,
             "#d8576b"
            ],
            [
             0.6666666666666666,
             "#ed7953"
            ],
            [
             0.7777777777777778,
             "#fb9f3a"
            ],
            [
             0.8888888888888888,
             "#fdca26"
            ],
            [
             1,
             "#f0f921"
            ]
           ],
           "sequentialminus": [
            [
             0,
             "#0d0887"
            ],
            [
             0.1111111111111111,
             "#46039f"
            ],
            [
             0.2222222222222222,
             "#7201a8"
            ],
            [
             0.3333333333333333,
             "#9c179e"
            ],
            [
             0.4444444444444444,
             "#bd3786"
            ],
            [
             0.5555555555555556,
             "#d8576b"
            ],
            [
             0.6666666666666666,
             "#ed7953"
            ],
            [
             0.7777777777777778,
             "#fb9f3a"
            ],
            [
             0.8888888888888888,
             "#fdca26"
            ],
            [
             1,
             "#f0f921"
            ]
           ]
          },
          "colorway": [
           "#636efa",
           "#EF553B",
           "#00cc96",
           "#ab63fa",
           "#FFA15A",
           "#19d3f3",
           "#FF6692",
           "#B6E880",
           "#FF97FF",
           "#FECB52"
          ],
          "font": {
           "color": "#2a3f5f"
          },
          "geo": {
           "bgcolor": "white",
           "lakecolor": "white",
           "landcolor": "#E5ECF6",
           "showlakes": true,
           "showland": true,
           "subunitcolor": "white"
          },
          "hoverlabel": {
           "align": "left"
          },
          "hovermode": "closest",
          "mapbox": {
           "style": "light"
          },
          "paper_bgcolor": "white",
          "plot_bgcolor": "#E5ECF6",
          "polar": {
           "angularaxis": {
            "gridcolor": "white",
            "linecolor": "white",
            "ticks": ""
           },
           "bgcolor": "#E5ECF6",
           "radialaxis": {
            "gridcolor": "white",
            "linecolor": "white",
            "ticks": ""
           }
          },
          "scene": {
           "xaxis": {
            "backgroundcolor": "#E5ECF6",
            "gridcolor": "white",
            "gridwidth": 2,
            "linecolor": "white",
            "showbackground": true,
            "ticks": "",
            "zerolinecolor": "white"
           },
           "yaxis": {
            "backgroundcolor": "#E5ECF6",
            "gridcolor": "white",
            "gridwidth": 2,
            "linecolor": "white",
            "showbackground": true,
            "ticks": "",
            "zerolinecolor": "white"
           },
           "zaxis": {
            "backgroundcolor": "#E5ECF6",
            "gridcolor": "white",
            "gridwidth": 2,
            "linecolor": "white",
            "showbackground": true,
            "ticks": "",
            "zerolinecolor": "white"
           }
          },
          "shapedefaults": {
           "line": {
            "color": "#2a3f5f"
           }
          },
          "ternary": {
           "aaxis": {
            "gridcolor": "white",
            "linecolor": "white",
            "ticks": ""
           },
           "baxis": {
            "gridcolor": "white",
            "linecolor": "white",
            "ticks": ""
           },
           "bgcolor": "#E5ECF6",
           "caxis": {
            "gridcolor": "white",
            "linecolor": "white",
            "ticks": ""
           }
          },
          "title": {
           "x": 0.05
          },
          "xaxis": {
           "automargin": true,
           "gridcolor": "white",
           "linecolor": "white",
           "ticks": "",
           "title": {
            "standoff": 15
           },
           "zerolinecolor": "white",
           "zerolinewidth": 2
          },
          "yaxis": {
           "automargin": true,
           "gridcolor": "white",
           "linecolor": "white",
           "ticks": "",
           "title": {
            "standoff": 15
           },
           "zerolinecolor": "white",
           "zerolinewidth": 2
          }
         }
        },
        "title": {
         "text": "Explained Variance Ratio"
        },
        "xaxis": {
         "anchor": "y",
         "domain": [
          0,
          1
         ],
         "tickmode": "array",
         "tickvals": [
          1,
          2,
          3,
          4
         ],
         "title": {
          "text": "Principal Component"
         }
        },
        "yaxis": {
         "anchor": "x",
         "domain": [
          0,
          1
         ],
         "title": {
          "text": "Explained Variance Ratio"
         }
        }
       }
      }
     },
     "metadata": {},
     "output_type": "display_data"
    }
   ],
   "source": [
    "fig = explained_variance_px(iris_data.iloc[:, 0:4], n_components=4)\n",
    "fig.show()"
   ]
  },
  {
   "cell_type": "code",
   "execution_count": 37,
   "metadata": {},
   "outputs": [
    {
     "data": {
      "image/png": "[encoded data removed]",
      "text/plain": [
       "<IPython.core.display.Image object>"
      ]
     },
     "execution_count": 37,
     "metadata": {},
     "output_type": "execute_result"
    }
   ],
   "source": [
    "# save and display the plot\n",
    "save_plotly_image(fig, '/Users/vominhthinh/Workspace/PCA from scratch/plots/explained_variance_ratio.png')\n",
    "Image(filename='/Users/vominhthinh/Workspace/PCA from scratch/plots/explained_variance_ratio.png')"
   ]
  },
  {
   "cell_type": "code",
   "execution_count": 38,
   "metadata": {},
   "outputs": [
    {
     "data": {
      "application/vnd.plotly.v1+json": {
       "config": {
        "plotlyServerURL": "https://plot.ly"
       },
       "data": [
        {
         "fillpattern": {
          "shape": ""
         },
         "hovertemplate": "Principal Component=%{x}<br>Cumulative Variance Ratio=%{y}<extra></extra>",
         "legendgroup": "",
         "line": {
          "color": "#636efa"
         },
         "marker": {
          "symbol": "circle"
         },
         "mode": "lines",
         "name": "",
         "orientation": "v",
         "showlegend": false,
         "stackgroup": "1",
         "type": "scatter",
         "x": [
          1,
          2,
          3,
          4
         ],
         "xaxis": "x",
         "y": [
          0.7277045209380134,
          0.9580097536148198,
          0.9948480731910938,
          1
         ],
         "yaxis": "y"
        }
       ],
       "layout": {
        "legend": {
         "tracegroupgap": 0
        },
        "template": {
         "data": {
          "bar": [
           {
            "error_x": {
             "color": "#2a3f5f"
            },
            "error_y": {
             "color": "#2a3f5f"
            },
            "marker": {
             "line": {
              "color": "#E5ECF6",
              "width": 0.5
             },
             "pattern": {
              "fillmode": "overlay",
              "size": 10,
              "solidity": 0.2
             }
            },
            "type": "bar"
           }
          ],
          "barpolar": [
           {
            "marker": {
             "line": {
              "color": "#E5ECF6",
              "width": 0.5
             },
             "pattern": {
              "fillmode": "overlay",
              "size": 10,
              "solidity": 0.2
             }
            },
            "type": "barpolar"
           }
          ],
          "carpet": [
           {
            "aaxis": {
             "endlinecolor": "#2a3f5f",
             "gridcolor": "white",
             "linecolor": "white",
             "minorgridcolor": "white",
             "startlinecolor": "#2a3f5f"
            },
            "baxis": {
             "endlinecolor": "#2a3f5f",
             "gridcolor": "white",
             "linecolor": "white",
             "minorgridcolor": "white",
             "startlinecolor": "#2a3f5f"
            },
            "type": "carpet"
           }
          ],
          "choropleth": [
           {
            "colorbar": {
             "outlinewidth": 0,
             "ticks": ""
            },
            "type": "choropleth"
           }
          ],
          "contour": [
           {
            "colorbar": {
             "outlinewidth": 0,
             "ticks": ""
            },
            "colorscale": [
             [
              0,
              "#0d0887"
             ],
             [
              0.1111111111111111,
              "#46039f"
             ],
             [
              0.2222222222222222,
              "#7201a8"
             ],
             [
              0.3333333333333333,
              "#9c179e"
             ],
             [
              0.4444444444444444,
              "#bd3786"
             ],
             [
              0.5555555555555556,
              "#d8576b"
             ],
             [
              0.6666666666666666,
              "#ed7953"
             ],
             [
              0.7777777777777778,
              "#fb9f3a"
             ],
             [
              0.8888888888888888,
              "#fdca26"
             ],
             [
              1,
              "#f0f921"
             ]
            ],
            "type": "contour"
           }
          ],
          "contourcarpet": [
           {
            "colorbar": {
             "outlinewidth": 0,
             "ticks": ""
            },
            "type": "contourcarpet"
           }
          ],
          "heatmap": [
           {
            "colorbar": {
             "outlinewidth": 0,
             "ticks": ""
            },
            "colorscale": [
             [
              0,
              "#0d0887"
             ],
             [
              0.1111111111111111,
              "#46039f"
             ],
             [
              0.2222222222222222,
              "#7201a8"
             ],
             [
              0.3333333333333333,
              "#9c179e"
             ],
             [
              0.4444444444444444,
              "#bd3786"
             ],
             [
              0.5555555555555556,
              "#d8576b"
             ],
             [
              0.6666666666666666,
              "#ed7953"
             ],
             [
              0.7777777777777778,
              "#fb9f3a"
             ],
             [
              0.8888888888888888,
              "#fdca26"
             ],
             [
              1,
              "#f0f921"
             ]
            ],
            "type": "heatmap"
           }
          ],
          "heatmapgl": [
           {
            "colorbar": {
             "outlinewidth": 0,
             "ticks": ""
            },
            "colorscale": [
             [
              0,
              "#0d0887"
             ],
             [
              0.1111111111111111,
              "#46039f"
             ],
             [
              0.2222222222222222,
              "#7201a8"
             ],
             [
              0.3333333333333333,
              "#9c179e"
             ],
             [
              0.4444444444444444,
              "#bd3786"
             ],
             [
              0.5555555555555556,
              "#d8576b"
             ],
             [
              0.6666666666666666,
              "#ed7953"
             ],
             [
              0.7777777777777778,
              "#fb9f3a"
             ],
             [
              0.8888888888888888,
              "#fdca26"
             ],
             [
              1,
              "#f0f921"
             ]
            ],
            "type": "heatmapgl"
           }
          ],
          "histogram": [
           {
            "marker": {
             "pattern": {
              "fillmode": "overlay",
              "size": 10,
              "solidity": 0.2
             }
            },
            "type": "histogram"
           }
          ],
          "histogram2d": [
           {
            "colorbar": {
             "outlinewidth": 0,
             "ticks": ""
            },
            "colorscale": [
             [
              0,
              "#0d0887"
             ],
             [
              0.1111111111111111,
              "#46039f"
             ],
             [
              0.2222222222222222,
              "#7201a8"
             ],
             [
              0.3333333333333333,
              "#9c179e"
             ],
             [
              0.4444444444444444,
              "#bd3786"
             ],
             [
              0.5555555555555556,
              "#d8576b"
             ],
             [
              0.6666666666666666,
              "#ed7953"
             ],
             [
              0.7777777777777778,
              "#fb9f3a"
             ],
             [
              0.8888888888888888,
              "#fdca26"
             ],
             [
              1,
              "#f0f921"
             ]
            ],
            "type": "histogram2d"
           }
          ],
          "histogram2dcontour": [
           {
            "colorbar": {
             "outlinewidth": 0,
             "ticks": ""
            },
            "colorscale": [
             [
              0,
              "#0d0887"
             ],
             [
              0.1111111111111111,
              "#46039f"
             ],
             [
              0.2222222222222222,
              "#7201a8"
             ],
             [
              0.3333333333333333,
              "#9c179e"
             ],
             [
              0.4444444444444444,
              "#bd3786"
             ],
             [
              0.5555555555555556,
              "#d8576b"
             ],
             [
              0.6666666666666666,
              "#ed7953"
             ],
             [
              0.7777777777777778,
              "#fb9f3a"
             ],
             [
              0.8888888888888888,
              "#fdca26"
             ],
             [
              1,
              "#f0f921"
             ]
            ],
            "type": "histogram2dcontour"
           }
          ],
          "mesh3d": [
           {
            "colorbar": {
             "outlinewidth": 0,
             "ticks": ""
            },
            "type": "mesh3d"
           }
          ],
          "parcoords": [
           {
            "line": {
             "colorbar": {
              "outlinewidth": 0,
              "ticks": ""
             }
            },
            "type": "parcoords"
           }
          ],
          "pie": [
           {
            "automargin": true,
            "type": "pie"
           }
          ],
          "scatter": [
           {
            "fillpattern": {
             "fillmode": "overlay",
             "size": 10,
             "solidity": 0.2
            },
            "type": "scatter"
           }
          ],
          "scatter3d": [
           {
            "line": {
             "colorbar": {
              "outlinewidth": 0,
              "ticks": ""
             }
            },
            "marker": {
             "colorbar": {
              "outlinewidth": 0,
              "ticks": ""
             }
            },
            "type": "scatter3d"
           }
          ],
          "scattercarpet": [
           {
            "marker": {
             "colorbar": {
              "outlinewidth": 0,
              "ticks": ""
             }
            },
            "type": "scattercarpet"
           }
          ],
          "scattergeo": [
           {
            "marker": {
             "colorbar": {
              "outlinewidth": 0,
              "ticks": ""
             }
            },
            "type": "scattergeo"
           }
          ],
          "scattergl": [
           {
            "marker": {
             "colorbar": {
              "outlinewidth": 0,
              "ticks": ""
             }
            },
            "type": "scattergl"
           }
          ],
          "scattermapbox": [
           {
            "marker": {
             "colorbar": {
              "outlinewidth": 0,
              "ticks": ""
             }
            },
            "type": "scattermapbox"
           }
          ],
          "scatterpolar": [
           {
            "marker": {
             "colorbar": {
              "outlinewidth": 0,
              "ticks": ""
             }
            },
            "type": "scatterpolar"
           }
          ],
          "scatterpolargl": [
           {
            "marker": {
             "colorbar": {
              "outlinewidth": 0,
              "ticks": ""
             }
            },
            "type": "scatterpolargl"
           }
          ],
          "scatterternary": [
           {
            "marker": {
             "colorbar": {
              "outlinewidth": 0,
              "ticks": ""
             }
            },
            "type": "scatterternary"
           }
          ],
          "surface": [
           {
            "colorbar": {
             "outlinewidth": 0,
             "ticks": ""
            },
            "colorscale": [
             [
              0,
              "#0d0887"
             ],
             [
              0.1111111111111111,
              "#46039f"
             ],
             [
              0.2222222222222222,
              "#7201a8"
             ],
             [
              0.3333333333333333,
              "#9c179e"
             ],
             [
              0.4444444444444444,
              "#bd3786"
             ],
             [
              0.5555555555555556,
              "#d8576b"
             ],
             [
              0.6666666666666666,
              "#ed7953"
             ],
             [
              0.7777777777777778,
              "#fb9f3a"
             ],
             [
              0.8888888888888888,
              "#fdca26"
             ],
             [
              1,
              "#f0f921"
             ]
            ],
            "type": "surface"
           }
          ],
          "table": [
           {
            "cells": {
             "fill": {
              "color": "#EBF0F8"
             },
             "line": {
              "color": "white"
             }
            },
            "header": {
             "fill": {
              "color": "#C8D4E3"
             },
             "line": {
              "color": "white"
             }
            },
            "type": "table"
           }
          ]
         },
         "layout": {
          "annotationdefaults": {
           "arrowcolor": "#2a3f5f",
           "arrowhead": 0,
           "arrowwidth": 1
          },
          "autotypenumbers": "strict",
          "coloraxis": {
           "colorbar": {
            "outlinewidth": 0,
            "ticks": ""
           }
          },
          "colorscale": {
           "diverging": [
            [
             0,
             "#8e0152"
            ],
            [
             0.1,
             "#c51b7d"
            ],
            [
             0.2,
             "#de77ae"
            ],
            [
             0.3,
             "#f1b6da"
            ],
            [
             0.4,
             "#fde0ef"
            ],
            [
             0.5,
             "#f7f7f7"
            ],
            [
             0.6,
             "#e6f5d0"
            ],
            [
             0.7,
             "#b8e186"
            ],
            [
             0.8,
             "#7fbc41"
            ],
            [
             0.9,
             "#4d9221"
            ],
            [
             1,
             "#276419"
            ]
           ],
           "sequential": [
            [
             0,
             "#0d0887"
            ],
            [
             0.1111111111111111,
             "#46039f"
            ],
            [
             0.2222222222222222,
             "#7201a8"
            ],
            [
             0.3333333333333333,
             "#9c179e"
            ],
            [
             0.4444444444444444,
             "#bd3786"
            ],
            [
             0.5555555555555556,
             "#d8576b"
            ],
            [
             0.6666666666666666,
             "#ed7953"
            ],
            [
             0.7777777777777778,
             "#fb9f3a"
            ],
            [
             0.8888888888888888,
             "#fdca26"
            ],
            [
             1,
             "#f0f921"
            ]
           ],
           "sequentialminus": [
            [
             0,
             "#0d0887"
            ],
            [
             0.1111111111111111,
             "#46039f"
            ],
            [
             0.2222222222222222,
             "#7201a8"
            ],
            [
             0.3333333333333333,
             "#9c179e"
            ],
            [
             0.4444444444444444,
             "#bd3786"
            ],
            [
             0.5555555555555556,
             "#d8576b"
            ],
            [
             0.6666666666666666,
             "#ed7953"
            ],
            [
             0.7777777777777778,
             "#fb9f3a"
            ],
            [
             0.8888888888888888,
             "#fdca26"
            ],
            [
             1,
             "#f0f921"
            ]
           ]
          },
          "colorway": [
           "#636efa",
           "#EF553B",
           "#00cc96",
           "#ab63fa",
           "#FFA15A",
           "#19d3f3",
           "#FF6692",
           "#B6E880",
           "#FF97FF",
           "#FECB52"
          ],
          "font": {
           "color": "#2a3f5f"
          },
          "geo": {
           "bgcolor": "white",
           "lakecolor": "white",
           "landcolor": "#E5ECF6",
           "showlakes": true,
           "showland": true,
           "subunitcolor": "white"
          },
          "hoverlabel": {
           "align": "left"
          },
          "hovermode": "closest",
          "mapbox": {
           "style": "light"
          },
          "paper_bgcolor": "white",
          "plot_bgcolor": "#E5ECF6",
          "polar": {
           "angularaxis": {
            "gridcolor": "white",
            "linecolor": "white",
            "ticks": ""
           },
           "bgcolor": "#E5ECF6",
           "radialaxis": {
            "gridcolor": "white",
            "linecolor": "white",
            "ticks": ""
           }
          },
          "scene": {
           "xaxis": {
            "backgroundcolor": "#E5ECF6",
            "gridcolor": "white",
            "gridwidth": 2,
            "linecolor": "white",
            "showbackground": true,
            "ticks": "",
            "zerolinecolor": "white"
           },
           "yaxis": {
            "backgroundcolor": "#E5ECF6",
            "gridcolor": "white",
            "gridwidth": 2,
            "linecolor": "white",
            "showbackground": true,
            "ticks": "",
            "zerolinecolor": "white"
           },
           "zaxis": {
            "backgroundcolor": "#E5ECF6",
            "gridcolor": "white",
            "gridwidth": 2,
            "linecolor": "white",
            "showbackground": true,
            "ticks": "",
            "zerolinecolor": "white"
           }
          },
          "shapedefaults": {
           "line": {
            "color": "#2a3f5f"
           }
          },
          "ternary": {
           "aaxis": {
            "gridcolor": "white",
            "linecolor": "white",
            "ticks": ""
           },
           "baxis": {
            "gridcolor": "white",
            "linecolor": "white",
            "ticks": ""
           },
           "bgcolor": "#E5ECF6",
           "caxis": {
            "gridcolor": "white",
            "linecolor": "white",
            "ticks": ""
           }
          },
          "title": {
           "x": 0.05
          },
          "xaxis": {
           "automargin": true,
           "gridcolor": "white",
           "linecolor": "white",
           "ticks": "",
           "title": {
            "standoff": 15
           },
           "zerolinecolor": "white",
           "zerolinewidth": 2
          },
          "yaxis": {
           "automargin": true,
           "gridcolor": "white",
           "linecolor": "white",
           "ticks": "",
           "title": {
            "standoff": 15
           },
           "zerolinecolor": "white",
           "zerolinewidth": 2
          }
         }
        },
        "title": {
         "text": "Cumulative Variance Ratio"
        },
        "xaxis": {
         "anchor": "y",
         "domain": [
          0,
          1
         ],
         "tickmode": "array",
         "tickvals": [
          1,
          2,
          3,
          4
         ],
         "title": {
          "text": "Principal Component"
         }
        },
        "yaxis": {
         "anchor": "x",
         "domain": [
          0,
          1
         ],
         "title": {
          "text": "Cumulative Variance Ratio"
         }
        }
       }
      }
     },
     "metadata": {},
     "output_type": "display_data"
    }
   ],
   "source": [
    "fig = cumulative_variance_px(iris_data.iloc[:, 0:4], n_components=4)\n",
    "fig.show()"
   ]
  },
  {
   "cell_type": "code",
   "execution_count": 39,
   "metadata": {},
   "outputs": [
    {
     "data": {
      "image/png": "[encoded data removed]",
      "text/plain": [
       "<IPython.core.display.Image object>"
      ]
     },
     "execution_count": 39,
     "metadata": {},
     "output_type": "execute_result"
    }
   ],
   "source": [
    "# save and display the plot\n",
    "save_plotly_image(fig, '/Users/vominhthinh/Workspace/PCA from scratch/plots/cumulative_variance_ratio.png')\n",
    "Image(filename='/Users/vominhthinh/Workspace/PCA from scratch/plots/cumulative_variance_ratio.png')"
   ]
  },
  {
   "cell_type": "markdown",
   "metadata": {},
   "source": [
    "### Apply PCA"
   ]
  },
  {
   "cell_type": "markdown",
   "metadata": {},
   "source": [
    "#### n_components = 2"
   ]
  },
  {
   "cell_type": "code",
   "execution_count": 40,
   "metadata": {},
   "outputs": [],
   "source": [
    "iris_data_pca = fit_transform(iris_data.iloc[:, 0:4], n_components=2)"
   ]
  },
  {
   "cell_type": "code",
   "execution_count": 41,
   "metadata": {},
   "outputs": [],
   "source": [
    "iris_data_pca = pd.concat([iris_data_pca, iris_data['Species']], axis=1)"
   ]
  },
  {
   "cell_type": "code",
   "execution_count": 42,
   "metadata": {},
   "outputs": [
    {
     "data": {
      "application/vnd.plotly.v1+json": {
       "config": {
        "plotlyServerURL": "https://plot.ly"
       },
       "data": [
        {
         "hovertemplate": "Species=Iris-setosa<br>0=%{x}<br>1=%{y}<extra></extra>",
         "legendgroup": "Iris-setosa",
         "marker": {
          "color": "#636efa",
          "symbol": "circle"
         },
         "mode": "markers",
         "name": "Iris-setosa",
         "orientation": "v",
         "showlegend": true,
         "type": "scatter",
         "x": [
          -2.2569806330680273,
          -2.0794591188954032,
          -2.360044081584208,
          -2.296503660003885,
          -2.3808015864527445,
          -2.0636234763372365,
          -2.437545335732414,
          -2.2263832674070723,
          -2.334138096440084,
          -2.1813679694194783,
          -2.1562628748102606,
          -2.3196068551308358,
          -2.2166567155972636,
          -2.6309024924632043,
          -2.1849716499715575,
          -2.2439477805270327,
          -2.1953957000147146,
          -2.1828663581877334,
          -1.8877501541896795,
          -2.3321361969578174,
          -1.9081638682820674,
          -2.197284290514373,
          -2.7649070974164887,
          -1.814333377542735,
          -2.220777687372727,
          -1.9504896852350977,
          -2.0452116617271154,
          -2.160954255327091,
          -2.1331596796833088,
          -2.2612149138260995,
          -2.1373939604413823,
          -1.825821430360219,
          -2.5994943195862916,
          -2.4298107667238202,
          -2.1813679694194783,
          -2.2037371720388785,
          -2.0375904017011304,
          -2.1813679694194783,
          -2.427818783922605,
          -2.163299945585506,
          -2.278892735928669,
          -1.8654577662786858,
          -2.5492940470489076,
          -1.9577207435296797,
          -2.126249698400046,
          -2.0684281658366763,
          -2.3733074159187417,
          -2.3901843474864055,
          -2.219346196631827,
          -2.1985886917632906
         ],
         "xaxis": "x",
         "y": [
          -0.5040154042276543,
          0.6532163936125882,
          0.3174139445702816,
          0.5734466129712319,
          -0.6725144107910781,
          -1.5134782667356714,
          -0.07431371713319665,
          -0.246787171742164,
          1.0914897701958342,
          0.44713111745010853,
          -1.0670209564555608,
          -0.15805794582009686,
          0.7067504781046802,
          0.93514914537482,
          -1.883668048915335,
          -2.7132813314101383,
          -1.5086960103975098,
          -0.5125870937164424,
          -1.426332360690067,
          -1.1541668625011636,
          -0.42902787992445973,
          -0.9492771504232255,
          -0.48788257443970134,
          -0.10639436181418517,
          -0.16164463807371812,
          0.6058628704402038,
          -0.2651261148042805,
          -0.5501733633154987,
          -0.33551639766423097,
          0.31382725231666037,
          0.482326258880084,
          -0.443780130732955,
          -1.8223700832270726,
          -2.1780947952079592,
          0.44713111745010853,
          0.1837223236449109,
          -0.6826694201563289,
          0.44713111745010853,
          0.8792239327136472,
          -0.2917495667454675,
          -0.4664291346285985,
          2.3199196591886455,
          0.45230112958019264,
          -0.4957308953485839,
          -1.1675208083281132,
          0.689607099127104,
          -1.146790737096916,
          0.3611807754890451,
          -1.0220585614522568,
          -0.03213020609089626
         ],
         "yaxis": "y"
        },
        {
         "hovertemplate": "Species=Iris-versicolor<br>0=%{x}<br>1=%{y}<extra></extra>",
         "legendgroup": "Iris-versicolor",
         "marker": {
          "color": "#EF553B",
          "symbol": "circle"
         },
         "mode": "markers",
         "name": "Iris-versicolor",
         "orientation": "v",
         "showlegend": true,
         "type": "scatter",
         "x": [
          1.1003075201339074,
          0.7300357522460633,
          1.237962216594525,
          0.39598071056289197,
          1.0690126562396043,
          0.38317447598711624,
          0.7462151855803782,
          -0.49620106800612546,
          0.923129796737432,
          0.004951437806511355,
          -0.12428110809321503,
          0.4372652385064252,
          0.5497921265929944,
          0.7147705184292631,
          -0.03713398067192763,
          0.8729660184742509,
          0.34684444079983395,
          0.15288038105347446,
          1.211245424234443,
          0.15641716357819885,
          0.7357911355372204,
          0.47079248367653403,
          1.2238880750440337,
          0.6272796002318272,
          0.6981339853361911,
          0.8706203282158355,
          1.250034458662749,
          1.3537048101945002,
          0.6599153596492513,
          -0.04712364472115749,
          0.1211284174004144,
          0.014071086600751306,
          0.23522281897532266,
          1.0531632331720644,
          0.22067779715670147,
          0.43034147671378853,
          1.0459094611126531,
          1.0324195088129018,
          0.06684366736176854,
          0.2745054474365893,
          0.2714257646706225,
          0.621089830946742,
          0.32890350645784355,
          -0.37238011462140785,
          0.281999617970592,
          0.08875577022241136,
          0.22360767666585635,
          0.5719673416930581,
          -0.4554869488039592,
          0.25140225230963803
         ],
         "xaxis": "x",
         "y": [
          -0.8602305932455344,
          -0.5966367845454196,
          -0.6127696143333724,
          1.7522985839851366,
          0.2110508626336456,
          0.5890889657221916,
          -0.7760986087667109,
          1.8426955694963787,
          -0.03022955495880912,
          1.025964037323891,
          2.649187652590902,
          0.058684685858174726,
          1.7666630790017086,
          0.18481516648438087,
          0.431350035919632,
          -0.508295314415275,
          0.1899851786144649,
          0.7880852970901402,
          1.6279020211284587,
          1.298752328910495,
          -0.4011265702488865,
          0.4152172061316791,
          0.9377731650868126,
          0.41541994702868423,
          0.06328192730141916,
          -0.2498715178452436,
          0.08234423894344174,
          -0.32772236582215425,
          0.22359700016797723,
          1.0536824781674137,
          1.5583716895650663,
          1.568138943138395,
          0.7733330462816449,
          0.6347747293054002,
          0.279909968621072,
          -0.8522816971544463,
          -0.5204536961576842,
          1.3878171676205453,
          0.2119108139302027,
          1.325375780851682,
          1.1157038124355811,
          -0.027450670997805963,
          0.9855988837638319,
          2.0111945760598022,
          0.8510994545458431,
          0.17432454433114639,
          0.3792142564090856,
          0.15320671730802665,
          1.5343243806878772,
          0.5938712220603533
         ],
         "yaxis": "y"
        },
        {
         "hovertemplate": "Species=Iris-virginica<br>0=%{x}<br>1=%{y}<extra></extra>",
         "legendgroup": "Iris-virginica",
         "marker": {
          "color": "#00cc96",
          "symbol": "circle"
         },
         "mode": "markers",
         "name": "Iris-virginica",
         "orientation": "v",
         "showlegend": true,
         "type": "scatter",
         "x": [
          1.8415033864548245,
          1.1493394141698121,
          2.198982700276266,
          1.433881764867896,
          1.8616539883077914,
          2.7450007008196846,
          0.3571778956252128,
          2.2953163745191474,
          1.9950516902455062,
          2.259983444078838,
          1.3613487839853147,
          1.5937254569379504,
          1.8779605111340885,
          1.248902574435473,
          1.459173157008129,
          1.5864943986433682,
          1.4663677210285082,
          2.4292403009357044,
          3.298092266412552,
          1.2497940601881579,
          2.033683231428679,
          0.9706633020050829,
          2.88838806680663,
          1.324755636558612,
          1.6985504064618078,
          1.9511909902500186,
          1.167991627254525,
          1.0163760982260253,
          1.7800455428934951,
          1.858551591776995,
          2.42736549094542,
          2.3083492270601416,
          1.8541598177737888,
          1.107561292193319,
          1.1934709163930424,
          2.791597292804991,
          1.5748792563339011,
          1.3425467676437908,
          0.9203497204850893,
          1.8473631454731345,
          2.009425438309621,
          1.8967625274756126,
          1.1493394141698121,
          2.036486021445851,
          1.9950075059829822,
          1.8642765713150007,
          1.5532882304845776,
          1.515767103030987,
          1.3717955477933024,
          0.9560955664216316
         ],
         "xaxis": "x",
         "y": [
          -0.8687861472648288,
          0.6989844508456435,
          -0.5526187805513848,
          0.049843541761757405,
          -0.29022053593581043,
          -0.7857997041596863,
          1.55488557249365,
          -0.40814935686306253,
          0.7214484398463697,
          -1.9150274710792843,
          -0.6916310114999059,
          0.4268189526567403,
          -0.4129493392033121,
          1.163493523578154,
          0.442664601834977,
          -0.6747748131320473,
          -0.2523470857270369,
          -2.548220565270135,
          0.00235343587272073,
          1.7118489907123642,
          -0.9043690444867275,
          0.5692672779658176,
          -0.3964631706252879,
          0.4851352934869939,
          -1.0107622770692704,
          -0.9999844743063194,
          0.31783185100811157,
          -0.06532412120657946,
          0.19262747985881656,
          -0.5535271640262079,
          -0.2458309116193464,
          -2.617415284045545,
          0.1840557903700285,
          0.294997832217551,
          0.814439294423698,
          -0.8419276577178642,
          -1.0688936030046063,
          -0.4208460922904607,
          -0.019166162118735477,
          -0.6701775716888029,
          -0.6083589783176405,
          -0.6837342584127577,
          0.6989844508456435,
          -0.8617977776525045,
          -1.0450490350244224,
          -0.3815436309239634,
          0.9022908430471199,
          -0.2659037724509918,
          -1.0129683903434339,
          0.022209540630946805
         ],
         "yaxis": "y"
        }
       ],
       "layout": {
        "legend": {
         "title": {
          "text": "Species"
         },
         "tracegroupgap": 0
        },
        "template": {
         "data": {
          "bar": [
           {
            "error_x": {
             "color": "#2a3f5f"
            },
            "error_y": {
             "color": "#2a3f5f"
            },
            "marker": {
             "line": {
              "color": "#E5ECF6",
              "width": 0.5
             },
             "pattern": {
              "fillmode": "overlay",
              "size": 10,
              "solidity": 0.2
             }
            },
            "type": "bar"
           }
          ],
          "barpolar": [
           {
            "marker": {
             "line": {
              "color": "#E5ECF6",
              "width": 0.5
             },
             "pattern": {
              "fillmode": "overlay",
              "size": 10,
              "solidity": 0.2
             }
            },
            "type": "barpolar"
           }
          ],
          "carpet": [
           {
            "aaxis": {
             "endlinecolor": "#2a3f5f",
             "gridcolor": "white",
             "linecolor": "white",
             "minorgridcolor": "white",
             "startlinecolor": "#2a3f5f"
            },
            "baxis": {
             "endlinecolor": "#2a3f5f",
             "gridcolor": "white",
             "linecolor": "white",
             "minorgridcolor": "white",
             "startlinecolor": "#2a3f5f"
            },
            "type": "carpet"
           }
          ],
          "choropleth": [
           {
            "colorbar": {
             "outlinewidth": 0,
             "ticks": ""
            },
            "type": "choropleth"
           }
          ],
          "contour": [
           {
            "colorbar": {
             "outlinewidth": 0,
             "ticks": ""
            },
            "colorscale": [
             [
              0,
              "#0d0887"
             ],
             [
              0.1111111111111111,
              "#46039f"
             ],
             [
              0.2222222222222222,
              "#7201a8"
             ],
             [
              0.3333333333333333,
              "#9c179e"
             ],
             [
              0.4444444444444444,
              "#bd3786"
             ],
             [
              0.5555555555555556,
              "#d8576b"
             ],
             [
              0.6666666666666666,
              "#ed7953"
             ],
             [
              0.7777777777777778,
              "#fb9f3a"
             ],
             [
              0.8888888888888888,
              "#fdca26"
             ],
             [
              1,
              "#f0f921"
             ]
            ],
            "type": "contour"
           }
          ],
          "contourcarpet": [
           {
            "colorbar": {
             "outlinewidth": 0,
             "ticks": ""
            },
            "type": "contourcarpet"
           }
          ],
          "heatmap": [
           {
            "colorbar": {
             "outlinewidth": 0,
             "ticks": ""
            },
            "colorscale": [
             [
              0,
              "#0d0887"
             ],
             [
              0.1111111111111111,
              "#46039f"
             ],
             [
              0.2222222222222222,
              "#7201a8"
             ],
             [
              0.3333333333333333,
              "#9c179e"
             ],
             [
              0.4444444444444444,
              "#bd3786"
             ],
             [
              0.5555555555555556,
              "#d8576b"
             ],
             [
              0.6666666666666666,
              "#ed7953"
             ],
             [
              0.7777777777777778,
              "#fb9f3a"
             ],
             [
              0.8888888888888888,
              "#fdca26"
             ],
             [
              1,
              "#f0f921"
             ]
            ],
            "type": "heatmap"
           }
          ],
          "heatmapgl": [
           {
            "colorbar": {
             "outlinewidth": 0,
             "ticks": ""
            },
            "colorscale": [
             [
              0,
              "#0d0887"
             ],
             [
              0.1111111111111111,
              "#46039f"
             ],
             [
              0.2222222222222222,
              "#7201a8"
             ],
             [
              0.3333333333333333,
              "#9c179e"
             ],
             [
              0.4444444444444444,
              "#bd3786"
             ],
             [
              0.5555555555555556,
              "#d8576b"
             ],
             [
              0.6666666666666666,
              "#ed7953"
             ],
             [
              0.7777777777777778,
              "#fb9f3a"
             ],
             [
              0.8888888888888888,
              "#fdca26"
             ],
             [
              1,
              "#f0f921"
             ]
            ],
            "type": "heatmapgl"
           }
          ],
          "histogram": [
           {
            "marker": {
             "pattern": {
              "fillmode": "overlay",
              "size": 10,
              "solidity": 0.2
             }
            },
            "type": "histogram"
           }
          ],
          "histogram2d": [
           {
            "colorbar": {
             "outlinewidth": 0,
             "ticks": ""
            },
            "colorscale": [
             [
              0,
              "#0d0887"
             ],
             [
              0.1111111111111111,
              "#46039f"
             ],
             [
              0.2222222222222222,
              "#7201a8"
             ],
             [
              0.3333333333333333,
              "#9c179e"
             ],
             [
              0.4444444444444444,
              "#bd3786"
             ],
             [
              0.5555555555555556,
              "#d8576b"
             ],
             [
              0.6666666666666666,
              "#ed7953"
             ],
             [
              0.7777777777777778,
              "#fb9f3a"
             ],
             [
              0.8888888888888888,
              "#fdca26"
             ],
             [
              1,
              "#f0f921"
             ]
            ],
            "type": "histogram2d"
           }
          ],
          "histogram2dcontour": [
           {
            "colorbar": {
             "outlinewidth": 0,
             "ticks": ""
            },
            "colorscale": [
             [
              0,
              "#0d0887"
             ],
             [
              0.1111111111111111,
              "#46039f"
             ],
             [
              0.2222222222222222,
              "#7201a8"
             ],
             [
              0.3333333333333333,
              "#9c179e"
             ],
             [
              0.4444444444444444,
              "#bd3786"
             ],
             [
              0.5555555555555556,
              "#d8576b"
             ],
             [
              0.6666666666666666,
              "#ed7953"
             ],
             [
              0.7777777777777778,
              "#fb9f3a"
             ],
             [
              0.8888888888888888,
              "#fdca26"
             ],
             [
              1,
              "#f0f921"
             ]
            ],
            "type": "histogram2dcontour"
           }
          ],
          "mesh3d": [
           {
            "colorbar": {
             "outlinewidth": 0,
             "ticks": ""
            },
            "type": "mesh3d"
           }
          ],
          "parcoords": [
           {
            "line": {
             "colorbar": {
              "outlinewidth": 0,
              "ticks": ""
             }
            },
            "type": "parcoords"
           }
          ],
          "pie": [
           {
            "automargin": true,
            "type": "pie"
           }
          ],
          "scatter": [
           {
            "fillpattern": {
             "fillmode": "overlay",
             "size": 10,
             "solidity": 0.2
            },
            "type": "scatter"
           }
          ],
          "scatter3d": [
           {
            "line": {
             "colorbar": {
              "outlinewidth": 0,
              "ticks": ""
             }
            },
            "marker": {
             "colorbar": {
              "outlinewidth": 0,
              "ticks": ""
             }
            },
            "type": "scatter3d"
           }
          ],
          "scattercarpet": [
           {
            "marker": {
             "colorbar": {
              "outlinewidth": 0,
              "ticks": ""
             }
            },
            "type": "scattercarpet"
           }
          ],
          "scattergeo": [
           {
            "marker": {
             "colorbar": {
              "outlinewidth": 0,
              "ticks": ""
             }
            },
            "type": "scattergeo"
           }
          ],
          "scattergl": [
           {
            "marker": {
             "colorbar": {
              "outlinewidth": 0,
              "ticks": ""
             }
            },
            "type": "scattergl"
           }
          ],
          "scattermapbox": [
           {
            "marker": {
             "colorbar": {
              "outlinewidth": 0,
              "ticks": ""
             }
            },
            "type": "scattermapbox"
           }
          ],
          "scatterpolar": [
           {
            "marker": {
             "colorbar": {
              "outlinewidth": 0,
              "ticks": ""
             }
            },
            "type": "scatterpolar"
           }
          ],
          "scatterpolargl": [
           {
            "marker": {
             "colorbar": {
              "outlinewidth": 0,
              "ticks": ""
             }
            },
            "type": "scatterpolargl"
           }
          ],
          "scatterternary": [
           {
            "marker": {
             "colorbar": {
              "outlinewidth": 0,
              "ticks": ""
             }
            },
            "type": "scatterternary"
           }
          ],
          "surface": [
           {
            "colorbar": {
             "outlinewidth": 0,
             "ticks": ""
            },
            "colorscale": [
             [
              0,
              "#0d0887"
             ],
             [
              0.1111111111111111,
              "#46039f"
             ],
             [
              0.2222222222222222,
              "#7201a8"
             ],
             [
              0.3333333333333333,
              "#9c179e"
             ],
             [
              0.4444444444444444,
              "#bd3786"
             ],
             [
              0.5555555555555556,
              "#d8576b"
             ],
             [
              0.6666666666666666,
              "#ed7953"
             ],
             [
              0.7777777777777778,
              "#fb9f3a"
             ],
             [
              0.8888888888888888,
              "#fdca26"
             ],
             [
              1,
              "#f0f921"
             ]
            ],
            "type": "surface"
           }
          ],
          "table": [
           {
            "cells": {
             "fill": {
              "color": "#EBF0F8"
             },
             "line": {
              "color": "white"
             }
            },
            "header": {
             "fill": {
              "color": "#C8D4E3"
             },
             "line": {
              "color": "white"
             }
            },
            "type": "table"
           }
          ]
         },
         "layout": {
          "annotationdefaults": {
           "arrowcolor": "#2a3f5f",
           "arrowhead": 0,
           "arrowwidth": 1
          },
          "autotypenumbers": "strict",
          "coloraxis": {
           "colorbar": {
            "outlinewidth": 0,
            "ticks": ""
           }
          },
          "colorscale": {
           "diverging": [
            [
             0,
             "#8e0152"
            ],
            [
             0.1,
             "#c51b7d"
            ],
            [
             0.2,
             "#de77ae"
            ],
            [
             0.3,
             "#f1b6da"
            ],
            [
             0.4,
             "#fde0ef"
            ],
            [
             0.5,
             "#f7f7f7"
            ],
            [
             0.6,
             "#e6f5d0"
            ],
            [
             0.7,
             "#b8e186"
            ],
            [
             0.8,
             "#7fbc41"
            ],
            [
             0.9,
             "#4d9221"
            ],
            [
             1,
             "#276419"
            ]
           ],
           "sequential": [
            [
             0,
             "#0d0887"
            ],
            [
             0.1111111111111111,
             "#46039f"
            ],
            [
             0.2222222222222222,
             "#7201a8"
            ],
            [
             0.3333333333333333,
             "#9c179e"
            ],
            [
             0.4444444444444444,
             "#bd3786"
            ],
            [
             0.5555555555555556,
             "#d8576b"
            ],
            [
             0.6666666666666666,
             "#ed7953"
            ],
            [
             0.7777777777777778,
             "#fb9f3a"
            ],
            [
             0.8888888888888888,
             "#fdca26"
            ],
            [
             1,
             "#f0f921"
            ]
           ],
           "sequentialminus": [
            [
             0,
             "#0d0887"
            ],
            [
             0.1111111111111111,
             "#46039f"
            ],
            [
             0.2222222222222222,
             "#7201a8"
            ],
            [
             0.3333333333333333,
             "#9c179e"
            ],
            [
             0.4444444444444444,
             "#bd3786"
            ],
            [
             0.5555555555555556,
             "#d8576b"
            ],
            [
             0.6666666666666666,
             "#ed7953"
            ],
            [
             0.7777777777777778,
             "#fb9f3a"
            ],
            [
             0.8888888888888888,
             "#fdca26"
            ],
            [
             1,
             "#f0f921"
            ]
           ]
          },
          "colorway": [
           "#636efa",
           "#EF553B",
           "#00cc96",
           "#ab63fa",
           "#FFA15A",
           "#19d3f3",
           "#FF6692",
           "#B6E880",
           "#FF97FF",
           "#FECB52"
          ],
          "font": {
           "color": "#2a3f5f"
          },
          "geo": {
           "bgcolor": "white",
           "lakecolor": "white",
           "landcolor": "#E5ECF6",
           "showlakes": true,
           "showland": true,
           "subunitcolor": "white"
          },
          "hoverlabel": {
           "align": "left"
          },
          "hovermode": "closest",
          "mapbox": {
           "style": "light"
          },
          "paper_bgcolor": "white",
          "plot_bgcolor": "#E5ECF6",
          "polar": {
           "angularaxis": {
            "gridcolor": "white",
            "linecolor": "white",
            "ticks": ""
           },
           "bgcolor": "#E5ECF6",
           "radialaxis": {
            "gridcolor": "white",
            "linecolor": "white",
            "ticks": ""
           }
          },
          "scene": {
           "xaxis": {
            "backgroundcolor": "#E5ECF6",
            "gridcolor": "white",
            "gridwidth": 2,
            "linecolor": "white",
            "showbackground": true,
            "ticks": "",
            "zerolinecolor": "white"
           },
           "yaxis": {
            "backgroundcolor": "#E5ECF6",
            "gridcolor": "white",
            "gridwidth": 2,
            "linecolor": "white",
            "showbackground": true,
            "ticks": "",
            "zerolinecolor": "white"
           },
           "zaxis": {
            "backgroundcolor": "#E5ECF6",
            "gridcolor": "white",
            "gridwidth": 2,
            "linecolor": "white",
            "showbackground": true,
            "ticks": "",
            "zerolinecolor": "white"
           }
          },
          "shapedefaults": {
           "line": {
            "color": "#2a3f5f"
           }
          },
          "ternary": {
           "aaxis": {
            "gridcolor": "white",
            "linecolor": "white",
            "ticks": ""
           },
           "baxis": {
            "gridcolor": "white",
            "linecolor": "white",
            "ticks": ""
           },
           "bgcolor": "#E5ECF6",
           "caxis": {
            "gridcolor": "white",
            "linecolor": "white",
            "ticks": ""
           }
          },
          "title": {
           "x": 0.05
          },
          "xaxis": {
           "automargin": true,
           "gridcolor": "white",
           "linecolor": "white",
           "ticks": "",
           "title": {
            "standoff": 15
           },
           "zerolinecolor": "white",
           "zerolinewidth": 2
          },
          "yaxis": {
           "automargin": true,
           "gridcolor": "white",
           "linecolor": "white",
           "ticks": "",
           "title": {
            "standoff": 15
           },
           "zerolinecolor": "white",
           "zerolinewidth": 2
          }
         }
        },
        "title": {
         "text": "Scatter Plot"
        },
        "xaxis": {
         "anchor": "y",
         "domain": [
          0,
          1
         ],
         "title": {
          "text": "0"
         }
        },
        "yaxis": {
         "anchor": "x",
         "domain": [
          0,
          1
         ],
         "title": {
          "text": "1"
         }
        }
       }
      }
     },
     "metadata": {},
     "output_type": "display_data"
    }
   ],
   "source": [
    "fig = scatter_plot_2d_px(iris_data_pca, target_column='Species')\n",
    "fig.show()\n"
   ]
  },
  {
   "cell_type": "code",
   "execution_count": 43,
   "metadata": {},
   "outputs": [
    {
     "data": {
      "image/png": "[encoded data removed]",
      "text/plain": [
       "<IPython.core.display.Image object>"
      ]
     },
     "execution_count": 43,
     "metadata": {},
     "output_type": "execute_result"
    }
   ],
   "source": [
    "# save and display the plot\n",
    "save_plotly_image(fig, '/Users/vominhthinh/Workspace/PCA from scratch/plots/scatter_plot_2d_pca.png')\n",
    "Image(filename='/Users/vominhthinh/Workspace/PCA from scratch/plots/scatter_plot_2d_pca.png')"
   ]
  },
  {
   "cell_type": "markdown",
   "metadata": {},
   "source": [
    "#### n_components = 3"
   ]
  },
  {
   "cell_type": "code",
   "execution_count": 44,
   "metadata": {},
   "outputs": [],
   "source": [
    "iris_data_pca = fit_transform(iris_data.iloc[:, 0:4], n_components=3)"
   ]
  },
  {
   "cell_type": "code",
   "execution_count": 45,
   "metadata": {},
   "outputs": [],
   "source": [
    "iris_data_pca = pd.concat([iris_data_pca, iris_data['Species']], axis=1)"
   ]
  },
  {
   "cell_type": "code",
   "execution_count": 46,
   "metadata": {},
   "outputs": [
    {
     "data": {
      "application/vnd.plotly.v1+json": {
       "config": {
        "plotlyServerURL": "https://plot.ly"
       },
       "data": [
        {
         "hovertemplate": "Species=Iris-setosa<br>0=%{x}<br>1=%{y}<br>2=%{z}<extra></extra>",
         "legendgroup": "Iris-setosa",
         "marker": {
          "color": "#636efa",
          "symbol": "circle"
         },
         "mode": "markers",
         "name": "Iris-setosa",
         "scene": "scene",
         "showlegend": true,
         "type": "scatter3d",
         "x": [
          -2.2569806330680273,
          -2.0794591188954032,
          -2.360044081584208,
          -2.296503660003885,
          -2.3808015864527445,
          -2.0636234763372365,
          -2.437545335732414,
          -2.2263832674070723,
          -2.334138096440084,
          -2.1813679694194783,
          -2.1562628748102606,
          -2.3196068551308358,
          -2.2166567155972636,
          -2.6309024924632043,
          -2.1849716499715575,
          -2.2439477805270327,
          -2.1953957000147146,
          -2.1828663581877334,
          -1.8877501541896795,
          -2.3321361969578174,
          -1.9081638682820674,
          -2.197284290514373,
          -2.7649070974164887,
          -1.814333377542735,
          -2.220777687372727,
          -1.9504896852350977,
          -2.0452116617271154,
          -2.160954255327091,
          -2.1331596796833088,
          -2.2612149138260995,
          -2.1373939604413823,
          -1.825821430360219,
          -2.5994943195862916,
          -2.4298107667238202,
          -2.1813679694194783,
          -2.2037371720388785,
          -2.0375904017011304,
          -2.1813679694194783,
          -2.427818783922605,
          -2.163299945585506,
          -2.278892735928669,
          -1.8654577662786858,
          -2.5492940470489076,
          -1.9577207435296797,
          -2.126249698400046,
          -2.0684281658366763,
          -2.3733074159187417,
          -2.3901843474864055,
          -2.219346196631827,
          -2.1985886917632906
         ],
         "y": [
          -0.5040154042276543,
          0.6532163936125882,
          0.3174139445702816,
          0.5734466129712319,
          -0.6725144107910781,
          -1.5134782667356714,
          -0.07431371713319665,
          -0.246787171742164,
          1.0914897701958342,
          0.44713111745010853,
          -1.0670209564555608,
          -0.15805794582009686,
          0.7067504781046802,
          0.93514914537482,
          -1.883668048915335,
          -2.7132813314101383,
          -1.5086960103975098,
          -0.5125870937164424,
          -1.426332360690067,
          -1.1541668625011636,
          -0.42902787992445973,
          -0.9492771504232255,
          -0.48788257443970134,
          -0.10639436181418517,
          -0.16164463807371812,
          0.6058628704402038,
          -0.2651261148042805,
          -0.5501733633154987,
          -0.33551639766423097,
          0.31382725231666037,
          0.482326258880084,
          -0.443780130732955,
          -1.8223700832270726,
          -2.1780947952079592,
          0.44713111745010853,
          0.1837223236449109,
          -0.6826694201563289,
          0.44713111745010853,
          0.8792239327136472,
          -0.2917495667454675,
          -0.4664291346285985,
          2.3199196591886455,
          0.45230112958019264,
          -0.4957308953485839,
          -1.1675208083281132,
          0.689607099127104,
          -1.146790737096916,
          0.3611807754890451,
          -1.0220585614522568,
          -0.03213020609089626
         ],
         "z": [
          -0.12153619022511106,
          -0.226492062893995,
          0.05130773794425672,
          0.09853035855950701,
          0.021356303367793178,
          0.030581806381082176,
          0.34105506996487467,
          -0.08229875595741884,
          0.15304966805221967,
          -0.24573628295382413,
          -0.2631278704743445,
          0.09983117190317861,
          -0.22246922138124595,
          0.1889370733586808,
          -0.467912544033942,
          0.03249493559833113,
          -0.0013589390091476665,
          -0.03848666098133967,
          -0.3695049579686333,
          0.1369588938753714,
          -0.41461786628838365,
          0.1641883002827583,
          0.33770504100364307,
          0.0399277108761059,
          0.12378673094585094,
          -0.29759406095539975,
          0.0917854888776813,
          -0.20062337463407395,
          -0.2644286838180161,
          0.07526329698692916,
          -0.06762919660597508,
          -0.2644891804959559,
          0.051247833140462405,
          -0.0790848133964984,
          -0.24573628295382413,
          -0.21789456067286025,
          -0.4778108595987483,
          -0.24573628295382413,
          0.20088460454104687,
          -0.16937112671393836,
          0.04060052342762234,
          -0.19387909682639382,
          0.31252485021381626,
          0.31370467020160864,
          0.2519491685093725,
          -0.05637016289370332,
          0.06189455097915755,
          0.14636529504833443,
          -0.17605549971782417,
          -0.14610406514136084
         ]
        },
        {
         "hovertemplate": "Species=Iris-versicolor<br>0=%{x}<br>1=%{y}<br>2=%{z}<extra></extra>",
         "legendgroup": "Iris-versicolor",
         "marker": {
          "color": "#EF553B",
          "symbol": "circle"
         },
         "mode": "markers",
         "name": "Iris-versicolor",
         "scene": "scene",
         "showlegend": true,
         "type": "scatter3d",
         "x": [
          1.1003075201339074,
          0.7300357522460633,
          1.237962216594525,
          0.39598071056289197,
          1.0690126562396043,
          0.38317447598711624,
          0.7462151855803782,
          -0.49620106800612546,
          0.923129796737432,
          0.004951437806511355,
          -0.12428110809321503,
          0.4372652385064252,
          0.5497921265929944,
          0.7147705184292631,
          -0.03713398067192763,
          0.8729660184742509,
          0.34684444079983395,
          0.15288038105347446,
          1.211245424234443,
          0.15641716357819885,
          0.7357911355372204,
          0.47079248367653403,
          1.2238880750440337,
          0.6272796002318272,
          0.6981339853361911,
          0.8706203282158355,
          1.250034458662749,
          1.3537048101945002,
          0.6599153596492513,
          -0.04712364472115749,
          0.1211284174004144,
          0.014071086600751306,
          0.23522281897532266,
          1.0531632331720644,
          0.22067779715670147,
          0.43034147671378853,
          1.0459094611126531,
          1.0324195088129018,
          0.06684366736176854,
          0.2745054474365893,
          0.2714257646706225,
          0.621089830946742,
          0.32890350645784355,
          -0.37238011462140785,
          0.281999617970592,
          0.08875577022241136,
          0.22360767666585635,
          0.5719673416930581,
          -0.4554869488039592,
          0.25140225230963803
         ],
         "y": [
          -0.8602305932455344,
          -0.5966367845454196,
          -0.6127696143333724,
          1.7522985839851366,
          0.2110508626336456,
          0.5890889657221916,
          -0.7760986087667109,
          1.8426955694963787,
          -0.03022955495880912,
          1.025964037323891,
          2.649187652590902,
          0.058684685858174726,
          1.7666630790017086,
          0.18481516648438087,
          0.431350035919632,
          -0.508295314415275,
          0.1899851786144649,
          0.7880852970901402,
          1.6279020211284587,
          1.298752328910495,
          -0.4011265702488865,
          0.4152172061316791,
          0.9377731650868126,
          0.41541994702868423,
          0.06328192730141916,
          -0.2498715178452436,
          0.08234423894344174,
          -0.32772236582215425,
          0.22359700016797723,
          1.0536824781674137,
          1.5583716895650663,
          1.568138943138395,
          0.7733330462816449,
          0.6347747293054002,
          0.279909968621072,
          -0.8522816971544463,
          -0.5204536961576842,
          1.3878171676205453,
          0.2119108139302027,
          1.325375780851682,
          1.1157038124355811,
          -0.027450670997805963,
          0.9855988837638319,
          2.0111945760598022,
          0.8510994545458431,
          0.17432454433114639,
          0.3792142564090856,
          0.15320671730802665,
          1.5343243806878772,
          0.5938712220603533
         ],
         "z": [
          -0.6832661027134911,
          -0.09375272162571562,
          -0.5529939528544697,
          -0.01850748056982822,
          -0.3961203973802164,
          0.12637432383684225,
          0.1481596739060753,
          0.2547019746414592,
          -0.5934717037878938,
          0.5410544659414837,
          -0.03968051476548389,
          0.20601332744144196,
          -0.758838044920126,
          -0.06707513441396595,
          0.19740014030173017,
          -0.5018246723229886,
          0.49118599875367447,
          -0.2976075028776055,
          -0.477809208476522,
          -0.16802385048867843,
          0.6147132789308699,
          -0.26184109092702396,
          -0.36548046533365797,
          -0.28899431573789314,
          -0.4432825213175272,
          -0.47057242440285296,
          -0.7244166661984324,
          -0.2605850893427146,
          0.0870763928912101,
          -0.3142663730428153,
          -0.14475678891610103,
          -0.23579150450742986,
          -0.1474788170851778,
          0.10639679454755703,
          0.6653307402667136,
          0.44922653631690457,
          -0.3948195840365448,
          -0.6831457012317571,
          0.2931461948759021,
          0.09313276510294115,
          0.09784410408578426,
          -0.01924019792513879,
          -0.195313753574005,
          0.11180948104855491,
          0.13367101271430581,
          0.13100948122316788,
          0.15823888763055458,
          -0.2691377798044873,
          0.19547132616590376,
          0.09443357844661243
         ]
        },
        {
         "hovertemplate": "Species=Iris-virginica<br>0=%{x}<br>1=%{y}<br>2=%{z}<extra></extra>",
         "legendgroup": "Iris-virginica",
         "marker": {
          "color": "#00cc96",
          "symbol": "circle"
         },
         "mode": "markers",
         "name": "Iris-virginica",
         "scene": "scene",
         "showlegend": true,
         "type": "scatter3d",
         "x": [
          1.8415033864548245,
          1.1493394141698121,
          2.198982700276266,
          1.433881764867896,
          1.8616539883077914,
          2.7450007008196846,
          0.3571778956252128,
          2.2953163745191474,
          1.9950516902455062,
          2.259983444078838,
          1.3613487839853147,
          1.5937254569379504,
          1.8779605111340885,
          1.248902574435473,
          1.459173157008129,
          1.5864943986433682,
          1.4663677210285082,
          2.4292403009357044,
          3.298092266412552,
          1.2497940601881579,
          2.033683231428679,
          0.9706633020050829,
          2.88838806680663,
          1.324755636558612,
          1.6985504064618078,
          1.9511909902500186,
          1.167991627254525,
          1.0163760982260253,
          1.7800455428934951,
          1.858551591776995,
          2.42736549094542,
          2.3083492270601416,
          1.8541598177737888,
          1.107561292193319,
          1.1934709163930424,
          2.791597292804991,
          1.5748792563339011,
          1.3425467676437908,
          0.9203497204850893,
          1.8473631454731345,
          2.009425438309621,
          1.8967625274756126,
          1.1493394141698121,
          2.036486021445851,
          1.9950075059829822,
          1.8642765713150007,
          1.5532882304845776,
          1.515767103030987,
          1.3717955477933024,
          0.9560955664216316
         ],
         "y": [
          -0.8687861472648288,
          0.6989844508456435,
          -0.5526187805513848,
          0.049843541761757405,
          -0.29022053593581043,
          -0.7857997041596863,
          1.55488557249365,
          -0.40814935686306253,
          0.7214484398463697,
          -1.9150274710792843,
          -0.6916310114999059,
          0.4268189526567403,
          -0.4129493392033121,
          1.163493523578154,
          0.442664601834977,
          -0.6747748131320473,
          -0.2523470857270369,
          -2.548220565270135,
          0.00235343587272073,
          1.7118489907123642,
          -0.9043690444867275,
          0.5692672779658176,
          -0.3964631706252879,
          0.4851352934869939,
          -1.0107622770692704,
          -0.9999844743063194,
          0.31783185100811157,
          -0.06532412120657946,
          0.19262747985881656,
          -0.5535271640262079,
          -0.2458309116193464,
          -2.617415284045545,
          0.1840557903700285,
          0.294997832217551,
          0.814439294423698,
          -0.8419276577178642,
          -1.0688936030046063,
          -0.4208460922904607,
          -0.019166162118735477,
          -0.6701775716888029,
          -0.6083589783176405,
          -0.6837342584127577,
          0.6989844508456435,
          -0.8617977776525045,
          -1.0450490350244224,
          -0.3815436309239634,
          0.9022908430471199,
          -0.2659037724509918,
          -1.0129683903434339,
          0.022209540630946805
         ],
         "z": [
          0.9994128596182639,
          0.5296901237919107,
          -0.20480977826569116,
          0.16284491817609653,
          0.39268878916964156,
          -0.5842753276153884,
          0.9876910383549323,
          -0.6519824849561998,
          -0.39275468350040665,
          0.3912070776662964,
          0.282333671921966,
          0.02322627194790605,
          0.02446658861363845,
          0.5801865917718748,
          1.0007578928471517,
          0.6345250031049142,
          0.03653511315188391,
          -0.13375200008950278,
          -0.704573572187232,
          -0.2637385352256949,
          0.23110389471254472,
          0.8267341446899915,
          -0.8580522869408916,
          -0.0046916319295746646,
          0.29496970057442673,
          -0.4214053047331985,
          0.13021567531577188,
          0.336913478092619,
          0.26910101231450545,
          -0.7151149815886254,
          -0.7277958220004487,
          -0.4979513591327577,
          0.35215054155827685,
          -0.1820497241293894,
          -0.1626688257951027,
          -0.5451745716221533,
          0.9402427078206473,
          0.1794276067447882,
          0.4160006625015811,
          -0.014770845654054546,
          0.42449285628541394,
          0.12737265379081547,
          0.5296901237919107,
          0.33414663816417994,
          0.6271678175495119,
          0.253682458815028,
          -0.0252971620110154,
          0.17867861259675413,
          0.9282951766382807,
          0.5270285923007729
         ]
        }
       ],
       "layout": {
        "legend": {
         "title": {
          "text": "Species"
         },
         "tracegroupgap": 0
        },
        "scene": {
         "domain": {
          "x": [
           0,
           1
          ],
          "y": [
           0,
           1
          ]
         },
         "xaxis": {
          "title": {
           "text": "0"
          }
         },
         "yaxis": {
          "title": {
           "text": "1"
          }
         },
         "zaxis": {
          "title": {
           "text": "2"
          }
         }
        },
        "template": {
         "data": {
          "bar": [
           {
            "error_x": {
             "color": "#2a3f5f"
            },
            "error_y": {
             "color": "#2a3f5f"
            },
            "marker": {
             "line": {
              "color": "#E5ECF6",
              "width": 0.5
             },
             "pattern": {
              "fillmode": "overlay",
              "size": 10,
              "solidity": 0.2
             }
            },
            "type": "bar"
           }
          ],
          "barpolar": [
           {
            "marker": {
             "line": {
              "color": "#E5ECF6",
              "width": 0.5
             },
             "pattern": {
              "fillmode": "overlay",
              "size": 10,
              "solidity": 0.2
             }
            },
            "type": "barpolar"
           }
          ],
          "carpet": [
           {
            "aaxis": {
             "endlinecolor": "#2a3f5f",
             "gridcolor": "white",
             "linecolor": "white",
             "minorgridcolor": "white",
             "startlinecolor": "#2a3f5f"
            },
            "baxis": {
             "endlinecolor": "#2a3f5f",
             "gridcolor": "white",
             "linecolor": "white",
             "minorgridcolor": "white",
             "startlinecolor": "#2a3f5f"
            },
            "type": "carpet"
           }
          ],
          "choropleth": [
           {
            "colorbar": {
             "outlinewidth": 0,
             "ticks": ""
            },
            "type": "choropleth"
           }
          ],
          "contour": [
           {
            "colorbar": {
             "outlinewidth": 0,
             "ticks": ""
            },
            "colorscale": [
             [
              0,
              "#0d0887"
             ],
             [
              0.1111111111111111,
              "#46039f"
             ],
             [
              0.2222222222222222,
              "#7201a8"
             ],
             [
              0.3333333333333333,
              "#9c179e"
             ],
             [
              0.4444444444444444,
              "#bd3786"
             ],
             [
              0.5555555555555556,
              "#d8576b"
             ],
             [
              0.6666666666666666,
              "#ed7953"
             ],
             [
              0.7777777777777778,
              "#fb9f3a"
             ],
             [
              0.8888888888888888,
              "#fdca26"
             ],
             [
              1,
              "#f0f921"
             ]
            ],
            "type": "contour"
           }
          ],
          "contourcarpet": [
           {
            "colorbar": {
             "outlinewidth": 0,
             "ticks": ""
            },
            "type": "contourcarpet"
           }
          ],
          "heatmap": [
           {
            "colorbar": {
             "outlinewidth": 0,
             "ticks": ""
            },
            "colorscale": [
             [
              0,
              "#0d0887"
             ],
             [
              0.1111111111111111,
              "#46039f"
             ],
             [
              0.2222222222222222,
              "#7201a8"
             ],
             [
              0.3333333333333333,
              "#9c179e"
             ],
             [
              0.4444444444444444,
              "#bd3786"
             ],
             [
              0.5555555555555556,
              "#d8576b"
             ],
             [
              0.6666666666666666,
              "#ed7953"
             ],
             [
              0.7777777777777778,
              "#fb9f3a"
             ],
             [
              0.8888888888888888,
              "#fdca26"
             ],
             [
              1,
              "#f0f921"
             ]
            ],
            "type": "heatmap"
           }
          ],
          "heatmapgl": [
           {
            "colorbar": {
             "outlinewidth": 0,
             "ticks": ""
            },
            "colorscale": [
             [
              0,
              "#0d0887"
             ],
             [
              0.1111111111111111,
              "#46039f"
             ],
             [
              0.2222222222222222,
              "#7201a8"
             ],
             [
              0.3333333333333333,
              "#9c179e"
             ],
             [
              0.4444444444444444,
              "#bd3786"
             ],
             [
              0.5555555555555556,
              "#d8576b"
             ],
             [
              0.6666666666666666,
              "#ed7953"
             ],
             [
              0.7777777777777778,
              "#fb9f3a"
             ],
             [
              0.8888888888888888,
              "#fdca26"
             ],
             [
              1,
              "#f0f921"
             ]
            ],
            "type": "heatmapgl"
           }
          ],
          "histogram": [
           {
            "marker": {
             "pattern": {
              "fillmode": "overlay",
              "size": 10,
              "solidity": 0.2
             }
            },
            "type": "histogram"
           }
          ],
          "histogram2d": [
           {
            "colorbar": {
             "outlinewidth": 0,
             "ticks": ""
            },
            "colorscale": [
             [
              0,
              "#0d0887"
             ],
             [
              0.1111111111111111,
              "#46039f"
             ],
             [
              0.2222222222222222,
              "#7201a8"
             ],
             [
              0.3333333333333333,
              "#9c179e"
             ],
             [
              0.4444444444444444,
              "#bd3786"
             ],
             [
              0.5555555555555556,
              "#d8576b"
             ],
             [
              0.6666666666666666,
              "#ed7953"
             ],
             [
              0.7777777777777778,
              "#fb9f3a"
             ],
             [
              0.8888888888888888,
              "#fdca26"
             ],
             [
              1,
              "#f0f921"
             ]
            ],
            "type": "histogram2d"
           }
          ],
          "histogram2dcontour": [
           {
            "colorbar": {
             "outlinewidth": 0,
             "ticks": ""
            },
            "colorscale": [
             [
              0,
              "#0d0887"
             ],
             [
              0.1111111111111111,
              "#46039f"
             ],
             [
              0.2222222222222222,
              "#7201a8"
             ],
             [
              0.3333333333333333,
              "#9c179e"
             ],
             [
              0.4444444444444444,
              "#bd3786"
             ],
             [
              0.5555555555555556,
              "#d8576b"
             ],
             [
              0.6666666666666666,
              "#ed7953"
             ],
             [
              0.7777777777777778,
              "#fb9f3a"
             ],
             [
              0.8888888888888888,
              "#fdca26"
             ],
             [
              1,
              "#f0f921"
             ]
            ],
            "type": "histogram2dcontour"
           }
          ],
          "mesh3d": [
           {
            "colorbar": {
             "outlinewidth": 0,
             "ticks": ""
            },
            "type": "mesh3d"
           }
          ],
          "parcoords": [
           {
            "line": {
             "colorbar": {
              "outlinewidth": 0,
              "ticks": ""
             }
            },
            "type": "parcoords"
           }
          ],
          "pie": [
           {
            "automargin": true,
            "type": "pie"
           }
          ],
          "scatter": [
           {
            "fillpattern": {
             "fillmode": "overlay",
             "size": 10,
             "solidity": 0.2
            },
            "type": "scatter"
           }
          ],
          "scatter3d": [
           {
            "line": {
             "colorbar": {
              "outlinewidth": 0,
              "ticks": ""
             }
            },
            "marker": {
             "colorbar": {
              "outlinewidth": 0,
              "ticks": ""
             }
            },
            "type": "scatter3d"
           }
          ],
          "scattercarpet": [
           {
            "marker": {
             "colorbar": {
              "outlinewidth": 0,
              "ticks": ""
             }
            },
            "type": "scattercarpet"
           }
          ],
          "scattergeo": [
           {
            "marker": {
             "colorbar": {
              "outlinewidth": 0,
              "ticks": ""
             }
            },
            "type": "scattergeo"
           }
          ],
          "scattergl": [
           {
            "marker": {
             "colorbar": {
              "outlinewidth": 0,
              "ticks": ""
             }
            },
            "type": "scattergl"
           }
          ],
          "scattermapbox": [
           {
            "marker": {
             "colorbar": {
              "outlinewidth": 0,
              "ticks": ""
             }
            },
            "type": "scattermapbox"
           }
          ],
          "scatterpolar": [
           {
            "marker": {
             "colorbar": {
              "outlinewidth": 0,
              "ticks": ""
             }
            },
            "type": "scatterpolar"
           }
          ],
          "scatterpolargl": [
           {
            "marker": {
             "colorbar": {
              "outlinewidth": 0,
              "ticks": ""
             }
            },
            "type": "scatterpolargl"
           }
          ],
          "scatterternary": [
           {
            "marker": {
             "colorbar": {
              "outlinewidth": 0,
              "ticks": ""
             }
            },
            "type": "scatterternary"
           }
          ],
          "surface": [
           {
            "colorbar": {
             "outlinewidth": 0,
             "ticks": ""
            },
            "colorscale": [
             [
              0,
              "#0d0887"
             ],
             [
              0.1111111111111111,
              "#46039f"
             ],
             [
              0.2222222222222222,
              "#7201a8"
             ],
             [
              0.3333333333333333,
              "#9c179e"
             ],
             [
              0.4444444444444444,
              "#bd3786"
             ],
             [
              0.5555555555555556,
              "#d8576b"
             ],
             [
              0.6666666666666666,
              "#ed7953"
             ],
             [
              0.7777777777777778,
              "#fb9f3a"
             ],
             [
              0.8888888888888888,
              "#fdca26"
             ],
             [
              1,
              "#f0f921"
             ]
            ],
            "type": "surface"
           }
          ],
          "table": [
           {
            "cells": {
             "fill": {
              "color": "#EBF0F8"
             },
             "line": {
              "color": "white"
             }
            },
            "header": {
             "fill": {
              "color": "#C8D4E3"
             },
             "line": {
              "color": "white"
             }
            },
            "type": "table"
           }
          ]
         },
         "layout": {
          "annotationdefaults": {
           "arrowcolor": "#2a3f5f",
           "arrowhead": 0,
           "arrowwidth": 1
          },
          "autotypenumbers": "strict",
          "coloraxis": {
           "colorbar": {
            "outlinewidth": 0,
            "ticks": ""
           }
          },
          "colorscale": {
           "diverging": [
            [
             0,
             "#8e0152"
            ],
            [
             0.1,
             "#c51b7d"
            ],
            [
             0.2,
             "#de77ae"
            ],
            [
             0.3,
             "#f1b6da"
            ],
            [
             0.4,
             "#fde0ef"
            ],
            [
             0.5,
             "#f7f7f7"
            ],
            [
             0.6,
             "#e6f5d0"
            ],
            [
             0.7,
             "#b8e186"
            ],
            [
             0.8,
             "#7fbc41"
            ],
            [
             0.9,
             "#4d9221"
            ],
            [
             1,
             "#276419"
            ]
           ],
           "sequential": [
            [
             0,
             "#0d0887"
            ],
            [
             0.1111111111111111,
             "#46039f"
            ],
            [
             0.2222222222222222,
             "#7201a8"
            ],
            [
             0.3333333333333333,
             "#9c179e"
            ],
            [
             0.4444444444444444,
             "#bd3786"
            ],
            [
             0.5555555555555556,
             "#d8576b"
            ],
            [
             0.6666666666666666,
             "#ed7953"
            ],
            [
             0.7777777777777778,
             "#fb9f3a"
            ],
            [
             0.8888888888888888,
             "#fdca26"
            ],
            [
             1,
             "#f0f921"
            ]
           ],
           "sequentialminus": [
            [
             0,
             "#0d0887"
            ],
            [
             0.1111111111111111,
             "#46039f"
            ],
            [
             0.2222222222222222,
             "#7201a8"
            ],
            [
             0.3333333333333333,
             "#9c179e"
            ],
            [
             0.4444444444444444,
             "#bd3786"
            ],
            [
             0.5555555555555556,
             "#d8576b"
            ],
            [
             0.6666666666666666,
             "#ed7953"
            ],
            [
             0.7777777777777778,
             "#fb9f3a"
            ],
            [
             0.8888888888888888,
             "#fdca26"
            ],
            [
             1,
             "#f0f921"
            ]
           ]
          },
          "colorway": [
           "#636efa",
           "#EF553B",
           "#00cc96",
           "#ab63fa",
           "#FFA15A",
           "#19d3f3",
           "#FF6692",
           "#B6E880",
           "#FF97FF",
           "#FECB52"
          ],
          "font": {
           "color": "#2a3f5f"
          },
          "geo": {
           "bgcolor": "white",
           "lakecolor": "white",
           "landcolor": "#E5ECF6",
           "showlakes": true,
           "showland": true,
           "subunitcolor": "white"
          },
          "hoverlabel": {
           "align": "left"
          },
          "hovermode": "closest",
          "mapbox": {
           "style": "light"
          },
          "paper_bgcolor": "white",
          "plot_bgcolor": "#E5ECF6",
          "polar": {
           "angularaxis": {
            "gridcolor": "white",
            "linecolor": "white",
            "ticks": ""
           },
           "bgcolor": "#E5ECF6",
           "radialaxis": {
            "gridcolor": "white",
            "linecolor": "white",
            "ticks": ""
           }
          },
          "scene": {
           "xaxis": {
            "backgroundcolor": "#E5ECF6",
            "gridcolor": "white",
            "gridwidth": 2,
            "linecolor": "white",
            "showbackground": true,
            "ticks": "",
            "zerolinecolor": "white"
           },
           "yaxis": {
            "backgroundcolor": "#E5ECF6",
            "gridcolor": "white",
            "gridwidth": 2,
            "linecolor": "white",
            "showbackground": true,
            "ticks": "",
            "zerolinecolor": "white"
           },
           "zaxis": {
            "backgroundcolor": "#E5ECF6",
            "gridcolor": "white",
            "gridwidth": 2,
            "linecolor": "white",
            "showbackground": true,
            "ticks": "",
            "zerolinecolor": "white"
           }
          },
          "shapedefaults": {
           "line": {
            "color": "#2a3f5f"
           }
          },
          "ternary": {
           "aaxis": {
            "gridcolor": "white",
            "linecolor": "white",
            "ticks": ""
           },
           "baxis": {
            "gridcolor": "white",
            "linecolor": "white",
            "ticks": ""
           },
           "bgcolor": "#E5ECF6",
           "caxis": {
            "gridcolor": "white",
            "linecolor": "white",
            "ticks": ""
           }
          },
          "title": {
           "x": 0.05
          },
          "xaxis": {
           "automargin": true,
           "gridcolor": "white",
           "linecolor": "white",
           "ticks": "",
           "title": {
            "standoff": 15
           },
           "zerolinecolor": "white",
           "zerolinewidth": 2
          },
          "yaxis": {
           "automargin": true,
           "gridcolor": "white",
           "linecolor": "white",
           "ticks": "",
           "title": {
            "standoff": 15
           },
           "zerolinecolor": "white",
           "zerolinewidth": 2
          }
         }
        },
        "title": {
         "text": "3D Scatter Plot"
        }
       }
      }
     },
     "metadata": {},
     "output_type": "display_data"
    }
   ],
   "source": [
    "fig = scatter_plot_3d_px(iris_data_pca, target_column='Species')\n",
    "fig.show() "
   ]
  },
  {
   "cell_type": "code",
   "execution_count": 47,
   "metadata": {},
   "outputs": [
    {
     "data": {
      "image/png": "[encoded data removed]",
      "text/plain": [
       "<IPython.core.display.Image object>"
      ]
     },
     "execution_count": 47,
     "metadata": {},
     "output_type": "execute_result"
    }
   ],
   "source": [
    "# save and display the plot\n",
    "save_plotly_image(fig, '/Users/vominhthinh/Workspace/PCA from scratch/plots/scatter_plot_3d_pca.png')\n",
    "Image(filename='/Users/vominhthinh/Workspace/PCA from scratch/plots/scatter_plot_3d_pca.png')"
   ]
  },
  {
   "cell_type": "markdown",
   "metadata": {},
   "source": [
    "## Wine dataset"
   ]
  },
  {
   "cell_type": "code",
   "execution_count": 48,
   "metadata": {},
   "outputs": [
    {
     "data": {
      "text/html": [
       "<div>\n",
       "<style scoped>\n",
       "    .dataframe tbody tr th:only-of-type {\n",
       "        vertical-align: middle;\n",
       "    }\n",
       "\n",
       "    .dataframe tbody tr th {\n",
       "        vertical-align: top;\n",
       "    }\n",
       "\n",
       "    .dataframe thead th {\n",
       "        text-align: right;\n",
       "    }\n",
       "</style>\n",
       "<table border=\"1\" class=\"dataframe\">\n",
       "  <thead>\n",
       "    <tr style=\"text-align: right;\">\n",
       "      <th></th>\n",
       "      <th>Unnamed: 0</th>\n",
       "      <th>Genotypes</th>\n",
       "      <th>PruningBiomass</th>\n",
       "      <th>TimeofBudbrust</th>\n",
       "      <th>Timeoffullbloom</th>\n",
       "      <th>Time of verasion</th>\n",
       "      <th>ABW</th>\n",
       "      <th>BW</th>\n",
       "      <th>BD</th>\n",
       "      <th>BL</th>\n",
       "      <th>TSS</th>\n",
       "      <th>Acidity</th>\n",
       "      <th>Compaactness</th>\n",
       "      <th>Skinfirmness</th>\n",
       "      <th>Bunlen</th>\n",
       "      <th>pedunclelength</th>\n",
       "      <th>Physiologicalmaturity</th>\n",
       "      <th>Seed weight</th>\n",
       "      <th>NOS</th>\n",
       "    </tr>\n",
       "  </thead>\n",
       "  <tbody>\n",
       "    <tr>\n",
       "      <th>0</th>\n",
       "      <td>0</td>\n",
       "      <td>(Gulabi X B’lore Purple)</td>\n",
       "      <td>0.327667</td>\n",
       "      <td>9.000000</td>\n",
       "      <td>38.333333</td>\n",
       "      <td>105.000000</td>\n",
       "      <td>558.676667</td>\n",
       "      <td>104.800000</td>\n",
       "      <td>16.900000</td>\n",
       "      <td>18.233333</td>\n",
       "      <td>18.533333</td>\n",
       "      <td>0.566667</td>\n",
       "      <td>5.550000</td>\n",
       "      <td>60.966667</td>\n",
       "      <td>10.433333</td>\n",
       "      <td>32.933333</td>\n",
       "      <td>127.000000</td>\n",
       "      <td>4.203333</td>\n",
       "      <td>2.000000</td>\n",
       "    </tr>\n",
       "    <tr>\n",
       "      <th>1</th>\n",
       "      <td>1</td>\n",
       "      <td>Alden</td>\n",
       "      <td>2.137667</td>\n",
       "      <td>10.000000</td>\n",
       "      <td>35.333333</td>\n",
       "      <td>102.666667</td>\n",
       "      <td>262.866667</td>\n",
       "      <td>182.776667</td>\n",
       "      <td>15.523333</td>\n",
       "      <td>17.666667</td>\n",
       "      <td>18.656667</td>\n",
       "      <td>0.716667</td>\n",
       "      <td>8.446667</td>\n",
       "      <td>40.700000</td>\n",
       "      <td>14.156667</td>\n",
       "      <td>25.233333</td>\n",
       "      <td>116.666667</td>\n",
       "      <td>11.836667</td>\n",
       "      <td>2.000000</td>\n",
       "    </tr>\n",
       "    <tr>\n",
       "      <th>2</th>\n",
       "      <td>2</td>\n",
       "      <td>Aledo</td>\n",
       "      <td>0.912667</td>\n",
       "      <td>10.666667</td>\n",
       "      <td>39.666667</td>\n",
       "      <td>109.000000</td>\n",
       "      <td>124.340000</td>\n",
       "      <td>176.866667</td>\n",
       "      <td>21.333333</td>\n",
       "      <td>23.666667</td>\n",
       "      <td>18.090000</td>\n",
       "      <td>0.666667</td>\n",
       "      <td>5.560000</td>\n",
       "      <td>51.200000</td>\n",
       "      <td>15.776667</td>\n",
       "      <td>22.066667</td>\n",
       "      <td>141.666667</td>\n",
       "      <td>5.390000</td>\n",
       "      <td>2.333333</td>\n",
       "    </tr>\n",
       "    <tr>\n",
       "      <th>3</th>\n",
       "      <td>3</td>\n",
       "      <td>Amber Sweet</td>\n",
       "      <td>0.528667</td>\n",
       "      <td>10.000000</td>\n",
       "      <td>36.333333</td>\n",
       "      <td>99.333333</td>\n",
       "      <td>85.626667</td>\n",
       "      <td>137.363333</td>\n",
       "      <td>15.166667</td>\n",
       "      <td>17.600000</td>\n",
       "      <td>18.010000</td>\n",
       "      <td>0.553333</td>\n",
       "      <td>3.820000</td>\n",
       "      <td>38.233333</td>\n",
       "      <td>9.266667</td>\n",
       "      <td>10.953333</td>\n",
       "      <td>121.333333</td>\n",
       "      <td>4.030000</td>\n",
       "      <td>1.333333</td>\n",
       "    </tr>\n",
       "    <tr>\n",
       "      <th>4</th>\n",
       "      <td>4</td>\n",
       "      <td>Arka Chitra</td>\n",
       "      <td>1.075667</td>\n",
       "      <td>10.000000</td>\n",
       "      <td>35.000000</td>\n",
       "      <td>102.666667</td>\n",
       "      <td>317.273333</td>\n",
       "      <td>237.713333</td>\n",
       "      <td>18.766667</td>\n",
       "      <td>21.266667</td>\n",
       "      <td>16.943333</td>\n",
       "      <td>0.746667</td>\n",
       "      <td>2.793333</td>\n",
       "      <td>52.643333</td>\n",
       "      <td>17.633333</td>\n",
       "      <td>26.366667</td>\n",
       "      <td>127.333333</td>\n",
       "      <td>3.460000</td>\n",
       "      <td>1.666667</td>\n",
       "    </tr>\n",
       "  </tbody>\n",
       "</table>\n",
       "</div>"
      ],
      "text/plain": [
       "   Unnamed: 0                 Genotypes  PruningBiomass  TimeofBudbrust  \\\n",
       "0           0  (Gulabi X B’lore Purple)        0.327667        9.000000   \n",
       "1           1                     Alden        2.137667       10.000000   \n",
       "2           2                     Aledo        0.912667       10.666667   \n",
       "3           3               Amber Sweet        0.528667       10.000000   \n",
       "4           4               Arka Chitra        1.075667       10.000000   \n",
       "\n",
       "   Timeoffullbloom  Time of verasion         ABW          BW         BD  \\\n",
       "0        38.333333        105.000000  558.676667  104.800000  16.900000   \n",
       "1        35.333333        102.666667  262.866667  182.776667  15.523333   \n",
       "2        39.666667        109.000000  124.340000  176.866667  21.333333   \n",
       "3        36.333333         99.333333   85.626667  137.363333  15.166667   \n",
       "4        35.000000        102.666667  317.273333  237.713333  18.766667   \n",
       "\n",
       "          BL        TSS   Acidity  Compaactness  Skinfirmness     Bunlen  \\\n",
       "0  18.233333  18.533333  0.566667      5.550000     60.966667  10.433333   \n",
       "1  17.666667  18.656667  0.716667      8.446667     40.700000  14.156667   \n",
       "2  23.666667  18.090000  0.666667      5.560000     51.200000  15.776667   \n",
       "3  17.600000  18.010000  0.553333      3.820000     38.233333   9.266667   \n",
       "4  21.266667  16.943333  0.746667      2.793333     52.643333  17.633333   \n",
       "\n",
       "   pedunclelength  Physiologicalmaturity  Seed weight        NOS  \n",
       "0       32.933333             127.000000      4.203333  2.000000  \n",
       "1       25.233333             116.666667     11.836667  2.000000  \n",
       "2       22.066667             141.666667      5.390000  2.333333  \n",
       "3       10.953333             121.333333      4.030000  1.333333  \n",
       "4       26.366667             127.333333      3.460000  1.666667  "
      ]
     },
     "execution_count": 48,
     "metadata": {},
     "output_type": "execute_result"
    }
   ],
   "source": [
    "data = load_csv('/Users/vominhthinh/Workspace/PCA from scratch/data/wine.csv')\n",
    "data.head()"
   ]
  },
  {
   "cell_type": "code",
   "execution_count": 49,
   "metadata": {},
   "outputs": [
    {
     "data": {
      "text/html": [
       "<div>\n",
       "<style scoped>\n",
       "    .dataframe tbody tr th:only-of-type {\n",
       "        vertical-align: middle;\n",
       "    }\n",
       "\n",
       "    .dataframe tbody tr th {\n",
       "        vertical-align: top;\n",
       "    }\n",
       "\n",
       "    .dataframe thead th {\n",
       "        text-align: right;\n",
       "    }\n",
       "</style>\n",
       "<table border=\"1\" class=\"dataframe\">\n",
       "  <thead>\n",
       "    <tr style=\"text-align: right;\">\n",
       "      <th></th>\n",
       "      <th>Genotypes</th>\n",
       "      <th>PruningBiomass</th>\n",
       "      <th>TimeofBudbrust</th>\n",
       "      <th>Timeoffullbloom</th>\n",
       "      <th>Time of verasion</th>\n",
       "      <th>ABW</th>\n",
       "      <th>BW</th>\n",
       "      <th>BD</th>\n",
       "      <th>BL</th>\n",
       "      <th>TSS</th>\n",
       "      <th>Acidity</th>\n",
       "      <th>Compaactness</th>\n",
       "      <th>Skinfirmness</th>\n",
       "      <th>Bunlen</th>\n",
       "      <th>pedunclelength</th>\n",
       "      <th>Physiologicalmaturity</th>\n",
       "      <th>Seed weight</th>\n",
       "      <th>NOS</th>\n",
       "    </tr>\n",
       "  </thead>\n",
       "  <tbody>\n",
       "    <tr>\n",
       "      <th>0</th>\n",
       "      <td>(Gulabi X B’lore Purple)</td>\n",
       "      <td>0.327667</td>\n",
       "      <td>9.000000</td>\n",
       "      <td>38.333333</td>\n",
       "      <td>105.000000</td>\n",
       "      <td>558.676667</td>\n",
       "      <td>104.800000</td>\n",
       "      <td>16.900000</td>\n",
       "      <td>18.233333</td>\n",
       "      <td>18.533333</td>\n",
       "      <td>0.566667</td>\n",
       "      <td>5.550000</td>\n",
       "      <td>60.966667</td>\n",
       "      <td>10.433333</td>\n",
       "      <td>32.933333</td>\n",
       "      <td>127.000000</td>\n",
       "      <td>4.203333</td>\n",
       "      <td>2.000000</td>\n",
       "    </tr>\n",
       "    <tr>\n",
       "      <th>1</th>\n",
       "      <td>Alden</td>\n",
       "      <td>2.137667</td>\n",
       "      <td>10.000000</td>\n",
       "      <td>35.333333</td>\n",
       "      <td>102.666667</td>\n",
       "      <td>262.866667</td>\n",
       "      <td>182.776667</td>\n",
       "      <td>15.523333</td>\n",
       "      <td>17.666667</td>\n",
       "      <td>18.656667</td>\n",
       "      <td>0.716667</td>\n",
       "      <td>8.446667</td>\n",
       "      <td>40.700000</td>\n",
       "      <td>14.156667</td>\n",
       "      <td>25.233333</td>\n",
       "      <td>116.666667</td>\n",
       "      <td>11.836667</td>\n",
       "      <td>2.000000</td>\n",
       "    </tr>\n",
       "    <tr>\n",
       "      <th>2</th>\n",
       "      <td>Aledo</td>\n",
       "      <td>0.912667</td>\n",
       "      <td>10.666667</td>\n",
       "      <td>39.666667</td>\n",
       "      <td>109.000000</td>\n",
       "      <td>124.340000</td>\n",
       "      <td>176.866667</td>\n",
       "      <td>21.333333</td>\n",
       "      <td>23.666667</td>\n",
       "      <td>18.090000</td>\n",
       "      <td>0.666667</td>\n",
       "      <td>5.560000</td>\n",
       "      <td>51.200000</td>\n",
       "      <td>15.776667</td>\n",
       "      <td>22.066667</td>\n",
       "      <td>141.666667</td>\n",
       "      <td>5.390000</td>\n",
       "      <td>2.333333</td>\n",
       "    </tr>\n",
       "    <tr>\n",
       "      <th>3</th>\n",
       "      <td>Amber Sweet</td>\n",
       "      <td>0.528667</td>\n",
       "      <td>10.000000</td>\n",
       "      <td>36.333333</td>\n",
       "      <td>99.333333</td>\n",
       "      <td>85.626667</td>\n",
       "      <td>137.363333</td>\n",
       "      <td>15.166667</td>\n",
       "      <td>17.600000</td>\n",
       "      <td>18.010000</td>\n",
       "      <td>0.553333</td>\n",
       "      <td>3.820000</td>\n",
       "      <td>38.233333</td>\n",
       "      <td>9.266667</td>\n",
       "      <td>10.953333</td>\n",
       "      <td>121.333333</td>\n",
       "      <td>4.030000</td>\n",
       "      <td>1.333333</td>\n",
       "    </tr>\n",
       "    <tr>\n",
       "      <th>4</th>\n",
       "      <td>Arka Chitra</td>\n",
       "      <td>1.075667</td>\n",
       "      <td>10.000000</td>\n",
       "      <td>35.000000</td>\n",
       "      <td>102.666667</td>\n",
       "      <td>317.273333</td>\n",
       "      <td>237.713333</td>\n",
       "      <td>18.766667</td>\n",
       "      <td>21.266667</td>\n",
       "      <td>16.943333</td>\n",
       "      <td>0.746667</td>\n",
       "      <td>2.793333</td>\n",
       "      <td>52.643333</td>\n",
       "      <td>17.633333</td>\n",
       "      <td>26.366667</td>\n",
       "      <td>127.333333</td>\n",
       "      <td>3.460000</td>\n",
       "      <td>1.666667</td>\n",
       "    </tr>\n",
       "  </tbody>\n",
       "</table>\n",
       "</div>"
      ],
      "text/plain": [
       "                  Genotypes  PruningBiomass  TimeofBudbrust  Timeoffullbloom  \\\n",
       "0  (Gulabi X B’lore Purple)        0.327667        9.000000        38.333333   \n",
       "1                     Alden        2.137667       10.000000        35.333333   \n",
       "2                     Aledo        0.912667       10.666667        39.666667   \n",
       "3               Amber Sweet        0.528667       10.000000        36.333333   \n",
       "4               Arka Chitra        1.075667       10.000000        35.000000   \n",
       "\n",
       "   Time of verasion         ABW          BW         BD         BL        TSS  \\\n",
       "0        105.000000  558.676667  104.800000  16.900000  18.233333  18.533333   \n",
       "1        102.666667  262.866667  182.776667  15.523333  17.666667  18.656667   \n",
       "2        109.000000  124.340000  176.866667  21.333333  23.666667  18.090000   \n",
       "3         99.333333   85.626667  137.363333  15.166667  17.600000  18.010000   \n",
       "4        102.666667  317.273333  237.713333  18.766667  21.266667  16.943333   \n",
       "\n",
       "    Acidity  Compaactness  Skinfirmness     Bunlen  pedunclelength  \\\n",
       "0  0.566667      5.550000     60.966667  10.433333       32.933333   \n",
       "1  0.716667      8.446667     40.700000  14.156667       25.233333   \n",
       "2  0.666667      5.560000     51.200000  15.776667       22.066667   \n",
       "3  0.553333      3.820000     38.233333   9.266667       10.953333   \n",
       "4  0.746667      2.793333     52.643333  17.633333       26.366667   \n",
       "\n",
       "   Physiologicalmaturity  Seed weight        NOS  \n",
       "0             127.000000      4.203333  2.000000  \n",
       "1             116.666667     11.836667  2.000000  \n",
       "2             141.666667      5.390000  2.333333  \n",
       "3             121.333333      4.030000  1.333333  \n",
       "4             127.333333      3.460000  1.666667  "
      ]
     },
     "execution_count": 49,
     "metadata": {},
     "output_type": "execute_result"
    }
   ],
   "source": [
    "df = data.iloc[:, 1:]\n",
    "df.head()"
   ]
  },
  {
   "cell_type": "markdown",
   "metadata": {},
   "source": [
    "### Restructering dataframe"
   ]
  },
  {
   "cell_type": "code",
   "execution_count": 50,
   "metadata": {},
   "outputs": [],
   "source": [
    "target_column = df.iloc[:, 0]  # Lấy cột target\n",
    "df = df.iloc[:, 1:]  # Lấy tất cả các cột trừ cột đầu tiên\n",
    "df['Genotypes'] = target_column  # Thêm cột target vào cuối"
   ]
  },
  {
   "cell_type": "code",
   "execution_count": 51,
   "metadata": {},
   "outputs": [
    {
     "data": {
      "text/html": [
       "<div>\n",
       "<style scoped>\n",
       "    .dataframe tbody tr th:only-of-type {\n",
       "        vertical-align: middle;\n",
       "    }\n",
       "\n",
       "    .dataframe tbody tr th {\n",
       "        vertical-align: top;\n",
       "    }\n",
       "\n",
       "    .dataframe thead th {\n",
       "        text-align: right;\n",
       "    }\n",
       "</style>\n",
       "<table border=\"1\" class=\"dataframe\">\n",
       "  <thead>\n",
       "    <tr style=\"text-align: right;\">\n",
       "      <th></th>\n",
       "      <th>PruningBiomass</th>\n",
       "      <th>TimeofBudbrust</th>\n",
       "      <th>Timeoffullbloom</th>\n",
       "      <th>Time of verasion</th>\n",
       "      <th>ABW</th>\n",
       "      <th>BW</th>\n",
       "      <th>BD</th>\n",
       "      <th>BL</th>\n",
       "      <th>TSS</th>\n",
       "      <th>Acidity</th>\n",
       "      <th>Compaactness</th>\n",
       "      <th>Skinfirmness</th>\n",
       "      <th>Bunlen</th>\n",
       "      <th>pedunclelength</th>\n",
       "      <th>Physiologicalmaturity</th>\n",
       "      <th>Seed weight</th>\n",
       "      <th>NOS</th>\n",
       "      <th>Genotypes</th>\n",
       "    </tr>\n",
       "  </thead>\n",
       "  <tbody>\n",
       "    <tr>\n",
       "      <th>0</th>\n",
       "      <td>0.327667</td>\n",
       "      <td>9.000000</td>\n",
       "      <td>38.333333</td>\n",
       "      <td>105.000000</td>\n",
       "      <td>558.676667</td>\n",
       "      <td>104.800000</td>\n",
       "      <td>16.900000</td>\n",
       "      <td>18.233333</td>\n",
       "      <td>18.533333</td>\n",
       "      <td>0.566667</td>\n",
       "      <td>5.550000</td>\n",
       "      <td>60.966667</td>\n",
       "      <td>10.433333</td>\n",
       "      <td>32.933333</td>\n",
       "      <td>127.000000</td>\n",
       "      <td>4.203333</td>\n",
       "      <td>2.000000</td>\n",
       "      <td>(Gulabi X B’lore Purple)</td>\n",
       "    </tr>\n",
       "    <tr>\n",
       "      <th>1</th>\n",
       "      <td>2.137667</td>\n",
       "      <td>10.000000</td>\n",
       "      <td>35.333333</td>\n",
       "      <td>102.666667</td>\n",
       "      <td>262.866667</td>\n",
       "      <td>182.776667</td>\n",
       "      <td>15.523333</td>\n",
       "      <td>17.666667</td>\n",
       "      <td>18.656667</td>\n",
       "      <td>0.716667</td>\n",
       "      <td>8.446667</td>\n",
       "      <td>40.700000</td>\n",
       "      <td>14.156667</td>\n",
       "      <td>25.233333</td>\n",
       "      <td>116.666667</td>\n",
       "      <td>11.836667</td>\n",
       "      <td>2.000000</td>\n",
       "      <td>Alden</td>\n",
       "    </tr>\n",
       "    <tr>\n",
       "      <th>2</th>\n",
       "      <td>0.912667</td>\n",
       "      <td>10.666667</td>\n",
       "      <td>39.666667</td>\n",
       "      <td>109.000000</td>\n",
       "      <td>124.340000</td>\n",
       "      <td>176.866667</td>\n",
       "      <td>21.333333</td>\n",
       "      <td>23.666667</td>\n",
       "      <td>18.090000</td>\n",
       "      <td>0.666667</td>\n",
       "      <td>5.560000</td>\n",
       "      <td>51.200000</td>\n",
       "      <td>15.776667</td>\n",
       "      <td>22.066667</td>\n",
       "      <td>141.666667</td>\n",
       "      <td>5.390000</td>\n",
       "      <td>2.333333</td>\n",
       "      <td>Aledo</td>\n",
       "    </tr>\n",
       "    <tr>\n",
       "      <th>3</th>\n",
       "      <td>0.528667</td>\n",
       "      <td>10.000000</td>\n",
       "      <td>36.333333</td>\n",
       "      <td>99.333333</td>\n",
       "      <td>85.626667</td>\n",
       "      <td>137.363333</td>\n",
       "      <td>15.166667</td>\n",
       "      <td>17.600000</td>\n",
       "      <td>18.010000</td>\n",
       "      <td>0.553333</td>\n",
       "      <td>3.820000</td>\n",
       "      <td>38.233333</td>\n",
       "      <td>9.266667</td>\n",
       "      <td>10.953333</td>\n",
       "      <td>121.333333</td>\n",
       "      <td>4.030000</td>\n",
       "      <td>1.333333</td>\n",
       "      <td>Amber Sweet</td>\n",
       "    </tr>\n",
       "    <tr>\n",
       "      <th>4</th>\n",
       "      <td>1.075667</td>\n",
       "      <td>10.000000</td>\n",
       "      <td>35.000000</td>\n",
       "      <td>102.666667</td>\n",
       "      <td>317.273333</td>\n",
       "      <td>237.713333</td>\n",
       "      <td>18.766667</td>\n",
       "      <td>21.266667</td>\n",
       "      <td>16.943333</td>\n",
       "      <td>0.746667</td>\n",
       "      <td>2.793333</td>\n",
       "      <td>52.643333</td>\n",
       "      <td>17.633333</td>\n",
       "      <td>26.366667</td>\n",
       "      <td>127.333333</td>\n",
       "      <td>3.460000</td>\n",
       "      <td>1.666667</td>\n",
       "      <td>Arka Chitra</td>\n",
       "    </tr>\n",
       "  </tbody>\n",
       "</table>\n",
       "</div>"
      ],
      "text/plain": [
       "   PruningBiomass  TimeofBudbrust  Timeoffullbloom  Time of verasion  \\\n",
       "0        0.327667        9.000000        38.333333        105.000000   \n",
       "1        2.137667       10.000000        35.333333        102.666667   \n",
       "2        0.912667       10.666667        39.666667        109.000000   \n",
       "3        0.528667       10.000000        36.333333         99.333333   \n",
       "4        1.075667       10.000000        35.000000        102.666667   \n",
       "\n",
       "          ABW          BW         BD         BL        TSS   Acidity  \\\n",
       "0  558.676667  104.800000  16.900000  18.233333  18.533333  0.566667   \n",
       "1  262.866667  182.776667  15.523333  17.666667  18.656667  0.716667   \n",
       "2  124.340000  176.866667  21.333333  23.666667  18.090000  0.666667   \n",
       "3   85.626667  137.363333  15.166667  17.600000  18.010000  0.553333   \n",
       "4  317.273333  237.713333  18.766667  21.266667  16.943333  0.746667   \n",
       "\n",
       "   Compaactness  Skinfirmness     Bunlen  pedunclelength  \\\n",
       "0      5.550000     60.966667  10.433333       32.933333   \n",
       "1      8.446667     40.700000  14.156667       25.233333   \n",
       "2      5.560000     51.200000  15.776667       22.066667   \n",
       "3      3.820000     38.233333   9.266667       10.953333   \n",
       "4      2.793333     52.643333  17.633333       26.366667   \n",
       "\n",
       "   Physiologicalmaturity  Seed weight        NOS                 Genotypes  \n",
       "0             127.000000      4.203333  2.000000  (Gulabi X B’lore Purple)  \n",
       "1             116.666667     11.836667  2.000000                     Alden  \n",
       "2             141.666667      5.390000  2.333333                     Aledo  \n",
       "3             121.333333      4.030000  1.333333               Amber Sweet  \n",
       "4             127.333333      3.460000  1.666667               Arka Chitra  "
      ]
     },
     "execution_count": 51,
     "metadata": {},
     "output_type": "execute_result"
    }
   ],
   "source": [
    "df.head()"
   ]
  },
  {
   "cell_type": "code",
   "execution_count": 52,
   "metadata": {},
   "outputs": [
    {
     "data": {
      "image/png": "[encoded data removed]",
      "text/plain": [
       "<Figure size 640x480 with 1 Axes>"
      ]
     },
     "metadata": {},
     "output_type": "display_data"
    }
   ],
   "source": [
    "scatter_plot_3d(df, target_column='Genotypes')"
   ]
  }
 ],
 "metadata": {
  "kernelspec": {
   "display_name": "base",
   "language": "python",
   "name": "python3"
  },
  "language_info": {
   "codemirror_mode": {
    "name": "ipython",
    "version": 3
   },
   "file_extension": ".py",
   "mimetype": "text/x-python",
   "name": "python",
   "nbconvert_exporter": "python",
   "pygments_lexer": "ipython3",
   "version": "3.12.4"
  }
 },
 "nbformat": 4,
 "nbformat_minor": 2
}
